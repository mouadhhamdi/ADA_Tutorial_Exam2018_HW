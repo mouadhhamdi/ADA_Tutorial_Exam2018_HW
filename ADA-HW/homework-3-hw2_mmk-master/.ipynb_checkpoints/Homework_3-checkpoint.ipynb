{
 "cells": [
  {
   "cell_type": "markdown",
   "metadata": {},
   "source": [
    "# ADA 2018 - Homework 3\n",
    "\n",
    "\n",
    "\n",
    "## Undestanding the StackOverflow community\n",
    "\n",
    "\n",
    "Deadline: Nov 7th 2018, 23:59:59\n",
    "\n",
    "Submission link: Check channel homework-3-public"
   ]
  },
  {
   "cell_type": "markdown",
   "metadata": {},
   "source": [
    "StackOverflow is the most popular programming-related Q&A website. It serves as a platform for users to ask and answer questions and to vote questions and answers up or down. Users of StackOverflow can earn reputation points and \"badges\"; for example, a person is awarded 10 reputation points for receiving an \"up\" vote on an answer given to a question, and 5 points for the \"up\" vote on a question asked. Also, users receive badges for their valued contributions, which represents a kind of gamification of the traditional Q&A site. \n",
    "\n",
    "[Learn more about StackOverflow on Wikipedia](https://en.wikipedia.org/wiki/Stack_Overflow)\n",
    "\n",
    "----\n",
    "\n",
    "Dataset link:\n",
    "\n",
    "https://drive.google.com/open?id=1POlGjqzw9v_pZ_bUnXGihOgk45kbvNjB\n",
    "\n",
    "http://iccluster053.iccluster.epfl.ch/Posts.json.zip (mirror 1)\n",
    "\n",
    "https://iloveadatas.com/datasets/Posts.json.zip (mirror 2)\n",
    "\n",
    "Dataset description:\n",
    "\n",
    "* **Id**: Id of the post\n",
    "* **CreationDate**: Creation date of the post (String format)\n",
    "* **PostTypeId**: Type of post (Question = 1, Answer = 2)\n",
    "* **ParentId**: The id of the question. Only present if PostTypeId = 2\n",
    "* **Score**: Points assigned by the users\n",
    "* **Tags**: Tags of the question. Only present if PostTypeId = 1\n",
    "* **Title**: Only present if PostTypeId = 1\n",
    "* **ViewCount**: Only present if PostTypeId = 1\n",
    "\n",
    "The dataset format is JSON. Here are examples of a question and an answer:\n",
    "\n",
    "Question:\n",
    "```json\n",
    "{\n",
    "    \"Id\": 10130734,\n",
    "    \"CreationDate\": \"2012-04-12T19:51:25.793+02:00\",\n",
    "    \"PostTypeId\": 1,\n",
    "    \"Score\": 4,\n",
    "    \"Tags\": \"<python><pandas>\",\n",
    "    \"Title\": \"Best way to insert a new value\",\n",
    "    \"ViewCount\": 3803\n",
    "}\n",
    "```\n",
    "\n",
    "Answer:\n",
    "```json\n",
    "{  \n",
    "   \"CreationDate\":\"2010-10-26T03:19:05.063+02:00\",\n",
    "   \"Id\":4020440,\n",
    "   \"ParentId\":4020214,\n",
    "   \"PostTypeId\":2,\n",
    "   \"Score\":1\n",
    "}\n",
    "```\n",
    "\n",
    "----\n",
    "Useful resources:\n",
    "\n",
    "**Spark SQL, DataFrames and Datasets Guide**\n",
    "\n",
    "https://spark.apache.org/docs/latest/sql-programming-guide.html\n",
    "\n",
    "**Database schema documentation for the public data dump**\n",
    "\n",
    "https://meta.stackexchange.com/questions/2677/database-schema-documentation-for-the-public-data-dump-and-sede\n",
    "\n",
    "----\n",
    "\n",
    "**Note:** Use Spark where possible. Some computations can take more than 10 minutes on a common notebook. Consider to save partial results on disk."
   ]
  },
  {
   "cell_type": "code",
   "execution_count": 1,
   "metadata": {},
   "outputs": [],
   "source": [
    "# Add your imports here\n",
    "import pandas as pd\n",
    "import numpy as np\n",
    "import scipy as sp\n",
    "from pyspark.sql import *\n",
    "from matplotlib import pyplot as plt\n",
    "import numpy as np\n",
    "import seaborn as sns\n",
    "from scipy import stats\n",
    "import warnings\n",
    "warnings.filterwarnings('ignore')\n",
    "from datetime import datetime\n",
    "from dateutil.tz import tzlocal\n",
    "from dateutil.parser import parse\n",
    "from pyspark.sql.types import IntegerType, TimestampType,FloatType\n",
    "from dateutil import parser, tz\n",
    "from pyspark.sql.types import StringType,TimestampType\n",
    "from pyspark.sql.functions import unix_timestamp,to_timestamp,date_format,udf,\\\n",
    "    col,regexp_replace,explode,split,min, collect_list, from_unixtime, floor\n",
    "\n",
    "%matplotlib inline"
   ]
  },
  {
   "cell_type": "code",
   "execution_count": 2,
   "metadata": {},
   "outputs": [],
   "source": [
    "spark = SparkSession.builder.getOrCreate()"
   ]
  },
  {
   "cell_type": "markdown",
   "metadata": {},
   "source": [
    "### Task A: Convert the dataset to a more convenient format\n",
    "As a warm-up task (and to avoid to warm up your laptop too much), load the dataset into a Spark dataframe, show the content, and save it in the _Parquet_ format. Use this step to convert the fields to a more convenient form.\n",
    "\n",
    "Answer the following questions:\n",
    "\n",
    "1. How many questions have been asked on StackOverflow?\n",
    "2. How many answers have been given?\n",
    "3. What is the percentage of questions with a score of 0?\n",
    "\n",
    "**Hint:** The next tasks involve a time difference. Consider storing time in numeric format."
   ]
  },
  {
   "cell_type": "code",
   "execution_count": 3,
   "metadata": {},
   "outputs": [],
   "source": [
    "# Read Json file \n",
    "\n",
    "df = spark.read.json(\"Posts.json\")"
   ]
  },
  {
   "cell_type": "code",
   "execution_count": 4,
   "metadata": {},
   "outputs": [],
   "source": [
    "# Write df into parquets\n",
    "df.write.parquet(\"Posts_p.parquet\").mode('overwrite')."
   ]
  },
  {
   "cell_type": "code",
   "execution_count": 5,
   "metadata": {
    "scrolled": true
   },
   "outputs": [],
   "source": [
    "# to read parquet file\n",
    "df_p = spark.read.parquet('Posts.parquet')"
   ]
  },
  {
   "cell_type": "code",
   "execution_count": 6,
   "metadata": {},
   "outputs": [],
   "source": [
    "#Seperate Dataframe into questions ans answers\n",
    "df_answers = df_p.where('PostTypeId =2')\n",
    "df_questions = df_p.where('PostTypeId =1 and Tags is not null')"
   ]
  },
  {
   "cell_type": "code",
   "execution_count": 7,
   "metadata": {},
   "outputs": [
    {
     "name": "stdout",
     "output_type": "stream",
     "text": [
      "The number of questions is: 15647060\n"
     ]
    }
   ],
   "source": [
    "# nombre of questions\n",
    "print(\"The number of questions is: \" + str(df_questions.count()))"
   ]
  },
  {
   "cell_type": "code",
   "execution_count": 8,
   "metadata": {},
   "outputs": [
    {
     "name": "stdout",
     "output_type": "stream",
     "text": [
      "The number of answers is: 25192772\n"
     ]
    }
   ],
   "source": [
    "# number of answers\n",
    "print(\"The number of answers is: \" + str(df_answers.count()))"
   ]
  },
  {
   "cell_type": "code",
   "execution_count": 9,
   "metadata": {},
   "outputs": [
    {
     "name": "stdout",
     "output_type": "stream",
     "text": [
      "The number of questions with a score 0 is: 7282714\n"
     ]
    }
   ],
   "source": [
    "# the number of questions with a socre 0\n",
    "print(\"The number of questions with a score 0 is: \" + str(df_questions[df_questions['score'] == 0].count()))"
   ]
  },
  {
   "cell_type": "markdown",
   "metadata": {},
   "source": [
    "**Hint:** Load the dataset from the Parquet file for the next tasks."
   ]
  },
  {
   "cell_type": "code",
   "execution_count": 10,
   "metadata": {},
   "outputs": [],
   "source": [
    "#Convert time to unix_timestamp values considering timezone\n",
    "df_answers = df_answers.withColumn('timestamp_value',unix_timestamp(to_timestamp(df_p.CreationDate, \"yyyy-MM-dd'T'HH:mm:sss.SSSXXX\")))"
   ]
  },
  {
   "cell_type": "code",
   "execution_count": 11,
   "metadata": {},
   "outputs": [],
   "source": [
    "df_questions = df_questions.withColumn('timestamp_value',unix_timestamp(to_timestamp(df_p.CreationDate, \"yyyy-MM-dd'T'HH:mm:sss.SSSXXX\")))"
   ]
  },
  {
   "cell_type": "markdown",
   "metadata": {},
   "source": [
    "### Task B: What are the 10 most popular tags?\n",
    "\n",
    "What are the most popular tags in StackOverflow? Use Spark to extract the information you need, and answer the following questions with Pandas and Matplotlib (or Seaborn):\n",
    "\n",
    "1. What is the proportion of tags that appear in fewer than 100 questions?\n",
    "2. Plot the distribution of the tag counts using an appropriate representation.\n",
    "3. Plot a bar chart with the number of questions for the 10 most popular tags.\n",
    "\n",
    "For each task describe your findings briefly."
   ]
  },
  {
   "cell_type": "markdown",
   "metadata": {},
   "source": [
    "1)What is the proportion of tags that appear in fewer than 100 questions?"
   ]
  },
  {
   "cell_type": "code",
   "execution_count": 12,
   "metadata": {},
   "outputs": [],
   "source": [
    "# Seprate tags in the same line, and replace <, > with empty strings. \n",
    "df_questions_1 = df_questions.withColumn(\"Tags\", explode(split('Tags','><')))\n",
    "df_questions_1 = df_questions_1.withColumn(\"Tags\", regexp_replace(df_questions_1.Tags, \"<\", \"\"))\n",
    "df_questions_1 = df_questions_1.withColumn(\"Tags\", regexp_replace(df_questions_1.Tags, \">\", \"\"))"
   ]
  },
  {
   "cell_type": "code",
   "execution_count": 13,
   "metadata": {},
   "outputs": [
    {
     "name": "stdout",
     "output_type": "stream",
     "text": [
      "+----------+-------+\n",
      "|      Tags|  count|\n",
      "+----------+-------+\n",
      "|javascript|1585495|\n",
      "|      java|1352735|\n",
      "+----------+-------+\n",
      "only showing top 2 rows\n",
      "\n"
     ]
    }
   ],
   "source": [
    "# Count the tags and sort them\n",
    "df_questions_gb = df_questions_1.groupBy('Tags').count().sort(col(\"count\").desc())\n",
    "df_questions_gb.show(2)"
   ]
  },
  {
   "cell_type": "code",
   "execution_count": 14,
   "metadata": {},
   "outputs": [
    {
     "name": "stdout",
     "output_type": "stream",
     "text": [
      "The propostion of tags less than 100 are: 68.15488545873117 %\n"
     ]
    }
   ],
   "source": [
    "# transform the dataframe into pandas df\n",
    "df_questions_1_pd = df_questions_gb.toPandas()\n",
    "\n",
    "nb_tags_less_100 = df_questions_1_pd[df_questions_1_pd['count'] <= 100].size\n",
    "nb_tags = df_questions_1_pd.size\n",
    "\n",
    "print(\"The propostion of tags less than 100 are: \" + str(nb_tags_less_100/nb_tags * 100) + \" %\")"
   ]
  },
  {
   "cell_type": "markdown",
   "metadata": {},
   "source": [
    "2. Plot the distribution of the tag counts using an appropriate representation.\n"
   ]
  },
  {
   "cell_type": "code",
   "execution_count": 15,
   "metadata": {},
   "outputs": [
    {
     "data": {
      "image/png": "[encoded data removed]",
      "text/plain": [
       "<Figure size 1080x576 with 1 Axes>"
      ]
     },
     "metadata": {
      "needs_background": "light"
     },
     "output_type": "display_data"
    }
   ],
   "source": [
    "# we used log-scale to have a better view\n",
    "bins = np.arange(0,20000,100)\n",
    "fig, ax = plt.subplots()\n",
    "df_questions_1_pd.set_index('Tags').plot(kind='hist', alpha=.9 ,bins = bins, figsize=(15,8), ax = ax)\n",
    "ax.set_yscale('log')"
   ]
  },
  {
   "cell_type": "markdown",
   "metadata": {},
   "source": [
    "3. Plot a bar chart with the number of questions for the 10 most popular tags.\n"
   ]
  },
  {
   "cell_type": "code",
   "execution_count": 16,
   "metadata": {},
   "outputs": [
    {
     "data": {
      "text/plain": [
       "<matplotlib.axes._subplots.AxesSubplot at 0x7f8b03c95438>"
      ]
     },
     "execution_count": 16,
     "metadata": {},
     "output_type": "execute_result"
    },
    {
     "data": {
      "image/png": "[encoded data removed]",
      "text/plain": [
       "<Figure size 1080x576 with 1 Axes>"
      ]
     },
     "metadata": {
      "needs_background": "light"
     },
     "output_type": "display_data"
    }
   ],
   "source": [
    "df_questions_1_pd.head(10).set_index('Tags').plot(kind='bar', figsize=(15,8))"
   ]
  },
  {
   "cell_type": "markdown",
   "metadata": {},
   "source": [
    "### Task C: View-score relation\n",
    "\n",
    "We want to investigate the correlation between the view count and the score of questions.\n",
    "\n",
    "1. Get the view count and score of the questions with tag ```random-effects``` and visualize the relation between these two variables using an appropriate plot.\n",
    "2. Are these two variables correlated? Use the Pearson coefficient to validate your hypothesis. Discuss your findings in detail.\n",
    "\n",
    "**Hint:** Inspect the data visually before drawing your conclusions."
   ]
  },
  {
   "cell_type": "markdown",
   "metadata": {},
   "source": [
    "1) Get the view count and score of the questions with tag random-effects and visualize the relation between these two variables using an appropriate plot."
   ]
  },
  {
   "cell_type": "code",
   "execution_count": 17,
   "metadata": {},
   "outputs": [],
   "source": [
    "# keep only tags equal to random-effects, keep only score and viewcount columns and convert it to pandas.\n",
    "df_questions_random = df_questions_1[df_questions_1['Tags'] == 'random-effects']\\\n",
    "                            [['Score','Viewcount']].toPandas()"
   ]
  },
  {
   "cell_type": "code",
   "execution_count": 18,
   "metadata": {},
   "outputs": [
    {
     "data": {
      "text/plain": [
       "<matplotlib.axes._subplots.AxesSubplot at 0x7f8b03888860>"
      ]
     },
     "execution_count": 18,
     "metadata": {},
     "output_type": "execute_result"
    },
    {
     "data": {
      "image/png": "[encoded data removed]",
      "text/plain": [
       "<Figure size 864x576 with 1 Axes>"
      ]
     },
     "metadata": {
      "needs_background": "light"
     },
     "output_type": "display_data"
    }
   ],
   "source": [
    "df_questions_random.plot(kind='scatter',x='Score', y = 'Viewcount', figsize=(12,8))"
   ]
  },
  {
   "cell_type": "markdown",
   "metadata": {},
   "source": [
    "2. Are these two variables correlated? Use the Pearson coefficient to validate your hypothesis. Discuss your findings in detail.\n"
   ]
  },
  {
   "cell_type": "code",
   "execution_count": 19,
   "metadata": {},
   "outputs": [
    {
     "data": {
      "text/plain": [
       "<matplotlib.axes._subplots.AxesSubplot at 0x7f8b03e31fd0>"
      ]
     },
     "execution_count": 19,
     "metadata": {},
     "output_type": "execute_result"
    },
    {
     "data": {
      "image/png": "[encoded data removed]",
      "text/plain": [
       "<Figure size 864x720 with 2 Axes>"
      ]
     },
     "metadata": {
      "needs_background": "light"
     },
     "output_type": "display_data"
    }
   ],
   "source": [
    "import seaborn as sns\n",
    "# calculate the correlation matrix\n",
    "corr = df_questions_random.corr(method='pearson')\n",
    "\n",
    "#create a msk, we only want viewcount vs score\n",
    "mask = np.zeros_like(corr)\n",
    "mask[np.triu_indices_from(mask)] = True\n",
    "\n",
    "# plot the heatmap\n",
    "plt.subplots(figsize=(12,10))\n",
    "sns.heatmap(corr, mask = mask)"
   ]
  },
  {
   "cell_type": "markdown",
   "metadata": {},
   "source": [
    "* comments :\n",
    "As you can see from the above plots the score and the Viewcount are highly correlated.\n",
    "This is normal because questions with zero score are not the first ones to be shown after a google search!\n",
    "Also, the high score means that the answer is correte which implies that people want to see it first. "
   ]
  },
  {
   "cell_type": "markdown",
   "metadata": {},
   "source": [
    "### Task D: What are the tags with the fastest first answer?\n",
    "\n",
    "What are the tags that have the fastest response time from the community? We define the response time as the difference in seconds between the timestamps of the question and of the first answer received.\n",
    "\n",
    "1. Get the response time for the first answer of the questions with the tags ```python``` and ```java```.\n",
    "2. Plot the two distributions in an appropriate format. What do you observe? Describe your findings and discuss the following distribution properties: mean, median, standard deviation.\n",
    "3. We believe that the response time is lower for questions related to Python (compare to Java). Contradict or confirm this assumption by estimating the proper statistic with bootstrapping. Visualize the 95% confidence intervals with box plots and describe your findings.\n",
    "3. Repeat the first analysis (D1) by using the proper statistic to measure the response time for the tags that appear at least 5000 times. Plot the distribution of the 10 tags with the fastest response time.\n"
   ]
  },
  {
   "cell_type": "markdown",
   "metadata": {},
   "source": [
    "### 1. Get the response time for the first answer of the questions with the tags ```python``` and ```java```.\n"
   ]
  },
  {
   "cell_type": "code",
   "execution_count": 20,
   "metadata": {},
   "outputs": [
    {
     "data": {
      "text/plain": [
       "DataFrame[timestamp_value: bigint, Id: bigint]"
      ]
     },
     "execution_count": 20,
     "metadata": {},
     "output_type": "execute_result"
    }
   ],
   "source": [
    "# we filter the java and python tags and we cache their dataframes\n",
    "df_questions_python = df_questions.filter('Tags like \"%<python>%\"')[['timestamp_value', 'Id']]\n",
    "df_questions_java = df_questions.filter('Tags like \"%<java%>\"')[['timestamp_value', 'Id']]\n",
    "\n",
    "df_questions_python.cache()\n",
    "df_questions_java.cache()"
   ]
  },
  {
   "cell_type": "code",
   "execution_count": 21,
   "metadata": {},
   "outputs": [
    {
     "data": {
      "text/plain": [
       "DataFrame[ParentId: bigint, min_resp: bigint]"
      ]
     },
     "execution_count": 21,
     "metadata": {},
     "output_type": "execute_result"
    }
   ],
   "source": [
    "# we groupby the answers by the parentId and we keep the first answer.\n",
    "df_answers_minDate = df_answers.groupby(\"ParentId\").agg(min(\"timestamp_value\").alias('min_resp'))\n",
    "df_answers_minDate.cache()"
   ]
  },
  {
   "cell_type": "code",
   "execution_count": 22,
   "metadata": {},
   "outputs": [
    {
     "data": {
      "text/plain": [
       "DataFrame[timestamp_value: bigint, Id: bigint, ParentId: bigint, min_resp: bigint]"
      ]
     },
     "execution_count": 22,
     "metadata": {},
     "output_type": "execute_result"
    }
   ],
   "source": [
    "# we create 2 SQL tables to perform the join in order to join the answers to their according questions.\n",
    "df_questions_python.registerTempTable('df_questions_python')\n",
    "df_answers_minDate.registerTempTable('df_answers_minDate')\n",
    "\n",
    "join_qa_python = \"\"\"\n",
    "select *\n",
    "from df_questions_python \n",
    "left join df_answers_minDate on df_answers_minDate.ParentId=df_questions_python.ID\n",
    "\"\"\"\n",
    "\n",
    "df_join_qa_python = spark.sql(join_qa_python)\n",
    "df_join_qa_python.cache()"
   ]
  },
  {
   "cell_type": "code",
   "execution_count": 23,
   "metadata": {},
   "outputs": [
    {
     "data": {
      "text/plain": [
       "DataFrame[timestamp_value: bigint, Id: bigint, ParentId: bigint, min_resp: bigint]"
      ]
     },
     "execution_count": 23,
     "metadata": {},
     "output_type": "execute_result"
    }
   ],
   "source": [
    "# we create  SQL table to perform the join in order to join the answers to their according questions.\n",
    "df_questions_java.registerTempTable('df_questions_java')\n",
    "\n",
    "join_qa_java = \"\"\"\n",
    "select *\n",
    "from df_questions_java \n",
    "left join df_answers_minDate on df_answers_minDate.ParentId=df_questions_java.ID\n",
    "\"\"\"\n",
    "\n",
    "df_join_qa_java = spark.sql(join_qa_java)\n",
    "df_join_qa_java.cache()"
   ]
  },
  {
   "cell_type": "code",
   "execution_count": 24,
   "metadata": {},
   "outputs": [],
   "source": [
    "# We create a new column with the response time for both Java and Python dataframe\n",
    "df_join_qa_python = df_join_qa_python.withColumn('resp_time_python', col('min_resp') - col('timestamp_value'))\n",
    "df_join_qa_java = df_join_qa_java.withColumn('resp_time_java', col('min_resp') - col('timestamp_value'))"
   ]
  },
  {
   "cell_type": "code",
   "execution_count": 25,
   "metadata": {},
   "outputs": [
    {
     "name": "stdout",
     "output_type": "stream",
     "text": [
      "+----------------+\n",
      "|resp_time_python|\n",
      "+----------------+\n",
      "|            7399|\n",
      "|            5089|\n",
      "|             511|\n",
      "+----------------+\n",
      "only showing top 3 rows\n",
      "\n",
      "+--------------+\n",
      "|resp_time_java|\n",
      "+--------------+\n",
      "|           180|\n",
      "|          1922|\n",
      "|           439|\n",
      "+--------------+\n",
      "only showing top 3 rows\n",
      "\n"
     ]
    }
   ],
   "source": [
    "df_join_qa_python[['resp_time_python']].show(3)\n",
    "df_join_qa_java[['resp_time_java']].show(3)"
   ]
  },
  {
   "cell_type": "markdown",
   "metadata": {},
   "source": [
    "### 2) Plot the two distributions in an appropriate format. What do you observe? Describe your findings and discuss the following distribution properties: mean, median, standard deviation."
   ]
  },
  {
   "cell_type": "code",
   "execution_count": 26,
   "metadata": {},
   "outputs": [],
   "source": [
    "# We notice that there is some negativ values! which does not make senes so we are going to delete them \n",
    "df_join_qa_java = df_join_qa_java.filter(df_join_qa_java.resp_time_java >= 0)\n",
    "df_join_qa_python = df_join_qa_python.filter(df_join_qa_python.resp_time_python >= 0)\n"
   ]
  },
  {
   "cell_type": "code",
   "execution_count": 27,
   "metadata": {},
   "outputs": [
    {
     "name": "stdout",
     "output_type": "stream",
     "text": [
      "+-------+-----------------+\n",
      "|summary|   resp_time_java|\n",
      "+-------+-----------------+\n",
      "|  count|          2589066|\n",
      "|   mean|880812.1043221764|\n",
      "| stddev|6539136.930603165|\n",
      "|    min|                0|\n",
      "|    max|        298536705|\n",
      "+-------+-----------------+\n",
      "\n"
     ]
    }
   ],
   "source": [
    "df_join_qa_java.select('resp_time_java').describe().show()"
   ]
  },
  {
   "cell_type": "code",
   "execution_count": 28,
   "metadata": {},
   "outputs": [
    {
     "name": "stdout",
     "output_type": "stream",
     "text": [
      "+-------+-----------------+\n",
      "|summary| resp_time_python|\n",
      "+-------+-----------------+\n",
      "|  count|           830135|\n",
      "|   mean|981007.0554427895|\n",
      "| stddev|6899096.122159081|\n",
      "|    min|                0|\n",
      "|    max|        246457525|\n",
      "+-------+-----------------+\n",
      "\n"
     ]
    }
   ],
   "source": [
    "df_join_qa_python.select('resp_time_python').describe().show()"
   ]
  },
  {
   "cell_type": "code",
   "execution_count": 29,
   "metadata": {},
   "outputs": [],
   "source": [
    "# this function will plot a histogram that contains mean, meadian and std\n",
    "def plot_distribution(df,s):\n",
    "    #transform the column into arrays to calculate mean, median and std\n",
    "    resp_time = np.asarray(df.select(s).collect()).flatten()\n",
    "    mean = resp_time.mean()\n",
    "    median = np.median(resp_time)\n",
    "    std = resp_time.std()\n",
    "    \n",
    "    #we set the figure variables.\n",
    "    f, ax_hist = plt.subplots(figsize = (16, 6))\n",
    "    sns.distplot(df.select(s).collect(),kde=False,color='black',ax=ax_hist)\n",
    "    ax_hist.axvline(mean, color='r', linestyle='--')\n",
    "    ax_hist.axvline(median, color='g', linestyle='-')\n",
    "    ax_hist.axvline(std, color='b', linestyle='-')\n",
    "    ax_hist.set_yscale('log')\n",
    "    plt.legend({'Mean':mean,'Median':median,'std':std})"
   ]
  },
  {
   "cell_type": "code",
   "execution_count": 30,
   "metadata": {},
   "outputs": [
    {
     "data": {
      "image/png": "[encoded data removed]",
      "text/plain": [
       "<Figure size 1152x432 with 1 Axes>"
      ]
     },
     "metadata": {
      "needs_background": "light"
     },
     "output_type": "display_data"
    }
   ],
   "source": [
    "plot_distribution(df_join_qa_python,'resp_time_python')"
   ]
  },
  {
   "cell_type": "code",
   "execution_count": 31,
   "metadata": {},
   "outputs": [
    {
     "data": {
      "image/png": "[encoded data removed]",
      "text/plain": [
       "<Figure size 1152x432 with 1 Axes>"
      ]
     },
     "metadata": {
      "needs_background": "light"
     },
     "output_type": "display_data"
    }
   ],
   "source": [
    "plot_distribution(df_join_qa_java,'resp_time_java')"
   ]
  },
  {
   "cell_type": "markdown",
   "metadata": {},
   "source": [
    "**Description of results**"
   ]
  },
  {
   "cell_type": "markdown",
   "metadata": {},
   "source": [
    "* The 2 plots do not differ a lot. Questions related to Java and Python are interesting and variated. A lot of students and programmers use both of these languages, so topics are always available. Therefore, experienced people knowing the response do not hesitate to answer as faster as they can. Spending a lot of time to answer questions may be due to 2 things. The first one, is that questions are unclearly asked. That means, people don't care about answering. The second assumption, is that questions were very complicated which explains the big time response. There is no trivial answer.\n",
    "* Discussion of mean, median and standard deviation: These 3 properties are almost the same. That explained what we have mentionned in the first interpretation. Mean and median are near to 0, which confirmed that most of questions related to Java and Python are answered very fast. Standard deviation quantifies the amount of dispersion of a set of data values. In this case, standard deviation is not big enough, which explains that data is no very dispersed which confirm that answers are fast."
   ]
  },
  {
   "cell_type": "markdown",
   "metadata": {},
   "source": [
    "### 3. We believe that the response time is lower for questions related to Python (compare to Java). Contradict or confirm this assumption by estimating the proper statistic with bootstrapping. Visualize the 95% confidence intervals with box plots and describe your findings."
   ]
  },
  {
   "cell_type": "markdown",
   "metadata": {},
   "source": [
    "**Comments** : We decide to use the median as our statistic because the mean is not a robust tool since it is largely influenced by outliers. \n",
    "In our case an outlier is a question that no one saw/answered for awhile! But this does not mean that people answer faster the other question category. \n",
    "For this reason we used the median because it's better suited for skewed distributions to derive at central tendency since it is much more robust and sensible."
   ]
  },
  {
   "cell_type": "code",
   "execution_count": 32,
   "metadata": {},
   "outputs": [],
   "source": [
    "#extracts a random sample of size n from X\n",
    "def bootstrap_resample(X,n):   \n",
    "    resample_i = np.floor(np.random.rand(n)*len(X)).astype(int)\n",
    "    X_resample = X[resample_i]\n",
    "    return X_resample\n",
    "\n",
    "#Calculates the medians of num_samples and returns an array of medians\n",
    "def boostrap (num_samples, df, s):\n",
    "    median = np.zeros(num_samples)\n",
    "    df_collect = np.asarray(df.select(s).collect()).flatten()\n",
    "    for i in range(num_samples):\n",
    "        #create a new sample\n",
    "        X_resample = bootstrap_resample(df_collect, n=10000)\n",
    "        #calculate the median\n",
    "        median[i]=np.median(X_resample)\n",
    "    return median"
   ]
  },
  {
   "cell_type": "code",
   "execution_count": 33,
   "metadata": {},
   "outputs": [],
   "source": [
    "median_python = boostrap(1000, df_join_qa_python,'resp_time_python')\n",
    "median_java = boostrap(1000, df_join_qa_java,'resp_time_java')"
   ]
  },
  {
   "cell_type": "code",
   "execution_count": 34,
   "metadata": {},
   "outputs": [],
   "source": [
    "#Plots the median in a box plot with confidence interval 95%\n",
    "def box_plot (median):\n",
    "    \n",
    "    cond_median = np.median(median)\n",
    "    # we calculate the confidence interval bounds of 95%\n",
    "    lower_ci = stats.scoreatpercentile(median, 2.5)\n",
    "    upper_ci = stats.scoreatpercentile(median, 97.5)\n",
    "\n",
    "    #prepare the plot\n",
    "    fig, ax = plt.subplots(figsize=(12, 6))\n",
    "    plt.boxplot(median,conf_intervals = [(lower_ci, upper_ci)])\n",
    "    plt.title('Box plot of the confidence interval with 95 % response time')\n",
    "    return cond_median"
   ]
  },
  {
   "cell_type": "code",
   "execution_count": 35,
   "metadata": {},
   "outputs": [
    {
     "name": "stdout",
     "output_type": "stream",
     "text": [
      "The median of medians is: 1344.5\n"
     ]
    },
    {
     "data": {
      "image/png": "[encoded data removed]",
      "text/plain": [
       "<Figure size 864x432 with 1 Axes>"
      ]
     },
     "metadata": {
      "needs_background": "light"
     },
     "output_type": "display_data"
    }
   ],
   "source": [
    "cond_median=box_plot(median_python)\n",
    "print(\"The median of medians is: \"+ str(cond_median))"
   ]
  },
  {
   "cell_type": "code",
   "execution_count": 36,
   "metadata": {
    "scrolled": false
   },
   "outputs": [
    {
     "name": "stdout",
     "output_type": "stream",
     "text": [
      "The median of medians is: 1092.0\n"
     ]
    },
    {
     "data": {
      "image/png": "[encoded data removed]",
      "text/plain": [
       "<Figure size 864x432 with 1 Axes>"
      ]
     },
     "metadata": {
      "needs_background": "light"
     },
     "output_type": "display_data"
    }
   ],
   "source": [
    "cond_median=box_plot(median_java)\n",
    "print(\"The median of medians is: \"+ str(cond_median))"
   ]
  },
  {
   "cell_type": "markdown",
   "metadata": {},
   "source": [
    "* Comments:\n",
    "We contradict that the response time is lower for questions related to Python compare to Java. The plots and the value of median of medians confirms that response time is lower in Java. The median of java response time is 1092 and in Python is 1344 in Unixtime. But, the difference is not very \n"
   ]
  },
  {
   "cell_type": "markdown",
   "metadata": {},
   "source": [
    "# 4)\n",
    "4. Repeat the first analysis (D1) by using the proper statistic to measure the response time for the tags that appear at least 5000 times. Plot the distribution of the 10 tags with the fastest response time.\n"
   ]
  },
  {
   "cell_type": "code",
   "execution_count": 37,
   "metadata": {},
   "outputs": [
    {
     "data": {
      "text/plain": [
       "DataFrame[Tags: string, count: bigint]"
      ]
     },
     "execution_count": 37,
     "metadata": {},
     "output_type": "execute_result"
    }
   ],
   "source": [
    "# keep only tags with counts more than 5000, we used the dataframe from the first question\n",
    "df_questions_gb_4 = df_questions_gb.filter(col('count') > 5000)\n",
    "df_questions_gb_4.cache()"
   ]
  },
  {
   "cell_type": "code",
   "execution_count": 39,
   "metadata": {},
   "outputs": [
    {
     "data": {
      "text/plain": [
       "DataFrame[timestamp_value: bigint, Id: bigint, Tags: string]"
      ]
     },
     "execution_count": 39,
     "metadata": {},
     "output_type": "execute_result"
    }
   ],
   "source": [
    "# We created 2 SQL tables to preform the join on the tags, we need to keep only tags with count>500\n",
    "df_questions_gb_4.registerTempTable('df_questions_gb_4')\n",
    "df_questions_1.registerTempTable('df_questions_1')\n",
    "\n",
    "join_tags_query = \"\"\"\n",
    "select timestamp_value, Id, df_questions_1.Tags\n",
    "from df_questions_1 \n",
    "\n",
    "left join df_questions_gb_4 on df_questions_1.Tags = df_questions_gb_4.Tags\n",
    "where df_questions_1.Tags IS NOT NULL and df_questions_gb_4.Tags IS NOT NULL\n",
    "\n",
    "\"\"\"\n",
    "\n",
    "join_tags = spark.sql(join_tags_query)\n",
    "join_tags.cache()"
   ]
  },
  {
   "cell_type": "code",
   "execution_count": 41,
   "metadata": {},
   "outputs": [
    {
     "data": {
      "text/plain": [
       "DataFrame[timestamp_value: bigint, Id: bigint, Tags: string, ParentId: bigint, min_resp: bigint]"
      ]
     },
     "execution_count": 41,
     "metadata": {},
     "output_type": "execute_result"
    }
   ],
   "source": [
    "# We created an SQL table to perform the join and get the answer for the tags with count>500\n",
    "join_tags.registerTempTable('join_tags')\n",
    "\n",
    "join_tags_time_query = \"\"\"\n",
    "select *\n",
    "from join_tags \n",
    "left join df_answers_minDate on df_answers_minDate.ParentId = join_tags.ID\n",
    "where df_answers_minDate.ParentId IS NOT NULL and join_tags.ID IS NOT NULL\n",
    "\n",
    "\"\"\"\n",
    "\n",
    "join_tags_time = spark.sql(join_tags_time_query)\n",
    "join_tags_time.cache()"
   ]
  },
  {
   "cell_type": "code",
   "execution_count": 43,
   "metadata": {},
   "outputs": [],
   "source": [
    "#create a new column with the response time\n",
    "join_tags = join_tags_time.withColumn('resp_time', col('min_resp')-col('timestamp_value'))"
   ]
  },
  {
   "cell_type": "code",
   "execution_count": 44,
   "metadata": {},
   "outputs": [],
   "source": [
    "# we look for the median after groupby with the tags\n",
    "def find_median(values_list):\n",
    "    try:\n",
    "        median = np.median(values_list) #get the median of values in a list in each row\n",
    "        return round(float(median),2)\n",
    "    except Exception:\n",
    "        return None #if there is anything wrong with the given values\n",
    "\n",
    "median_finder = udf(find_median,FloatType())\n",
    "\n",
    "join_tags = join_tags.groupBy(\"Tags\").agg(collect_list(\"resp_time\").alias(\"time\"))\n",
    "\n",
    "join_tags = join_tags.withColumn(\"median\",median_finder(\"time\")) \n"
   ]
  },
  {
   "cell_type": "code",
   "execution_count": 45,
   "metadata": {},
   "outputs": [
    {
     "data": {
      "text/plain": [
       "DataFrame[Tags: string, time: array<bigint>, median: float]"
      ]
     },
     "execution_count": 45,
     "metadata": {},
     "output_type": "execute_result"
    }
   ],
   "source": [
    "# sort the medians and keep only the least 10 values\n",
    "join_tags = join_tags.sort('median', ascending = True).limit(10)\n",
    "join_tags.cache()"
   ]
  },
  {
   "cell_type": "code",
   "execution_count": 47,
   "metadata": {},
   "outputs": [
    {
     "data": {
      "text/plain": [
       "<BarContainer object of 10 artists>"
      ]
     },
     "execution_count": 47,
     "metadata": {},
     "output_type": "execute_result"
    },
    {
     "data": {
      "image/png": "[encoded data removed]",
      "text/plain": [
       "<Figure size 1152x432 with 1 Axes>"
      ]
     },
     "metadata": {
      "needs_background": "light"
     },
     "output_type": "display_data"
    }
   ],
   "source": [
    "# plot the bar plot\n",
    "f, ax_hist = plt.subplots(figsize = (16, 6))\n",
    "\n",
    "plt.bar(np.asarray(join_tags[['Tags']].collect()).flatten(),\n",
    "        np.asarray(join_tags[['median']].collect()).flatten() )"
   ]
  },
  {
   "cell_type": "markdown",
   "metadata": {},
   "source": [
    "### Task E: What's up with PySpark?\n",
    "The number of questions asked regarding a specific topic reflect the public’s interest on it. We are interested on the popularity of PySpark. Compute and plot the number of questions with the ```pyspark``` tag for 30-day time intervals. Do you notice any trend over time? Is there any correlation between time and number of questions?\n"
   ]
  },
  {
   "cell_type": "code",
   "execution_count": 50,
   "metadata": {},
   "outputs": [
    {
     "data": {
      "text/plain": [
       "<matplotlib.axes._subplots.AxesSubplot at 0x7f8b03f363c8>"
      ]
     },
     "execution_count": 50,
     "metadata": {},
     "output_type": "execute_result"
    },
    {
     "data": {
      "image/png": "[encoded data removed]",
      "text/plain": [
       "<Figure size 864x576 with 1 Axes>"
      ]
     },
     "metadata": {
      "needs_background": "light"
     },
     "output_type": "display_data"
    }
   ],
   "source": [
    "from pyspark.sql.functions import unix_timestamp,to_timestamp,date_format,udf,\\\n",
    "    col,regexp_replace,explode,split,min, collect_list, from_unixtime, floor\n",
    "# Add your code and description here\n",
    "df_questions_pyspark = df_questions.filter('Tags like \"%<pyspark>%\"')[['timestamp_value','CreationDate']]\n",
    "\n",
    "THIRTY_DAYS=30*24*60*60\n",
    "\n",
    "##Add time intervals to Dataframe \n",
    "df_questions_pyspark = df_questions_pyspark.withColumn(\n",
    "    'time_interval',\n",
    "    from_unixtime(floor(df_questions_pyspark['timestamp_value']/ THIRTY_DAYS) * THIRTY_DAYS))\n",
    "gb=df_questions_pyspark.groupby('time_interval').count()\n",
    "pd=gb.toPandas()\n",
    "pd.sort_values('time_interval').plot(x='time_interval',y='count',kind='bar',figsize=(12,8))\n",
    "##release of Spark Release 1.4.0"
   ]
  },
  {
   "cell_type": "code",
   "execution_count": null,
   "metadata": {},
   "outputs": [],
   "source": []
  }
 ],
 "metadata": {
  "kernelspec": {
   "display_name": "Python 3",
   "language": "python",
   "name": "python3"
  },
  "language_info": {
   "codemirror_mode": {
    "name": "ipython",
    "version": 3
   },
   "file_extension": ".py",
   "mimetype": "text/x-python",
   "name": "python",
   "nbconvert_exporter": "python",
   "pygments_lexer": "ipython3",
   "version": "3.7.0"
  }
 },
 "nbformat": 4,
 "nbformat_minor": 2
}
