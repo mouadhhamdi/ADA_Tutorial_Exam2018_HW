{
 "cells": [
  {
   "cell_type": "markdown",
   "metadata": {},
   "source": [
    "# Exercise 1\n",
    " <p><div class=\"lev1\"><a href=\"#Task-A.-Another-LEGO-brick-in-the-wall\"><span class=\"toc-item-num\">Task A.&nbsp;&nbsp;</span>Another LEGO brick in the wall</a></div>\n",
    " <p><div class=\"lev1\"><a href=\"#Task-B.-Drop-the-Bike\"><span class=\"toc-item-num\">Task B.&nbsp;&nbsp;</span>Drop the Bike</a></div>"
   ]
  },
  {
   "cell_type": "code",
   "execution_count": 1,
   "metadata": {},
   "outputs": [],
   "source": [
    "# Add your imports here\n",
    "import pandas as pd\n",
    "import math\n",
    "import numpy as np\n",
    "import matplotlib \n",
    "import json\n",
    "import zipfile\n",
    "import matplotlib.pyplot as plt\n",
    "import datetime as dt"
   ]
  },
  {
   "cell_type": "code",
   "execution_count": 2,
   "metadata": {},
   "outputs": [],
   "source": [
    "DATA_FOLDER = 'data'"
   ]
  },
  {
   "cell_type": "markdown",
   "metadata": {},
   "source": [
    "## Task A. Another LEGO brick in the wall\n",
    "\n",
    "LEGO is a popular brand of toy building bricks. They are often sold in sets in order to build a specific object. Each set contains a number of parts in different shapes, sizes and colors. This database contains information on which parts are included in different LEGO sets. It was originally compiled to help people who owned some LEGO sets already figure out what other sets they could build with the pieces they had.\n",
    "\n",
    "This dataset contains the official LEGO colors, parts, inventories (i.e., sets of LEGO parts which assembled create an object in the LEGO world) and sets (i.e., sets of LEGO inventories which assembled create a LEGO ecosystem). The schema of the dataset can be shown in the following UML diagram: \n",
    "\n",
    "![lego-schema](lego-schema.png)\n",
    "\n",
    "In this task you have to apply the following Data Wrangling pipeline:\n",
    "1. Load your data into `Pandas`\n",
    "* Explore it and clean its dirty parts\n",
    "* Use it to answer a set of queries\n",
    "\n",
    "Each of these subtasks are described in detail below."
   ]
  },
  {
   "cell_type": "markdown",
   "metadata": {},
   "source": [
    "### A1. Loading phase\n",
    "Load all the csv files into different `DataFrames`. Use meaningful names for your `DataFrames` (e.g., the respective filenames).\n",
    "\n",
    "*Hint: You can load files without first unzipping them (for `Pandas` version >= 0.18.1).*"
   ]
  },
  {
   "cell_type": "code",
   "execution_count": 3,
   "metadata": {},
   "outputs": [],
   "source": [
    "LEGO_DATA_FOLDER = DATA_FOLDER + '/lego'"
   ]
  },
  {
   "cell_type": "code",
   "execution_count": 4,
   "metadata": {},
   "outputs": [],
   "source": [
    "# Write your code here\n",
    "colors = pd.read_csv(LEGO_DATA_FOLDER+'/colors.csv.zip', compression='zip', sep=',')\n",
    "inventories = pd.read_csv(LEGO_DATA_FOLDER+'/inventories.csv.zip', compression='zip', sep=',')\n",
    "inventory_parts = pd.read_csv(LEGO_DATA_FOLDER+'/inventory_parts.csv.zip', compression='zip', sep=',')\n",
    "inventory_sets = pd.read_csv(LEGO_DATA_FOLDER+'/inventory_sets.csv.zip', compression='zip', sep=',')\n",
    "part_categories = pd.read_csv(LEGO_DATA_FOLDER+'/part_categories.csv.zip', compression='zip', sep=',')\n",
    "parts = pd.read_csv(LEGO_DATA_FOLDER+'/parts.csv.zip', compression='zip', sep=',')\n",
    "sets = pd.read_csv(LEGO_DATA_FOLDER+'/sets.csv.zip', compression='zip', sep=',')\n",
    "themes = pd.read_csv(LEGO_DATA_FOLDER+'/themes.csv.zip', compression='zip', sep=',')"
   ]
  },
  {
   "cell_type": "markdown",
   "metadata": {},
   "source": [
    "### A2. Cleaning phase\n",
    "Explore the following columns from your dataset:\n",
    "\n",
    "1. sets: year\n",
    "* inventory_parts: quantity\n",
    "\n",
    "What is the time range of the sets? \n",
    "What is the average quantity of the inventory parts? \n",
    "Do you see any inconsistencies? \n",
    "Provide code that detects and cleans such inconsistencies and validates the coherence of your dataset. "
   ]
  },
  {
   "cell_type": "markdown",
   "metadata": {},
   "source": [
    "###  range of the sets"
   ]
  },
  {
   "cell_type": "code",
   "execution_count": 5,
   "metadata": {},
   "outputs": [],
   "source": [
    "'''\n",
    "First we parsed the year values to numerical values, then we ignored the NaN values to be able to find the range \n",
    "of the sets.\n",
    "In order to preserve our intial data we started by creating a copy of it into dataFrame that we called sets_range.\n",
    "When parsing our values we have set the errors='coerce' to prevent deleting all the rows with NaN values. \n",
    "We also puted the downcast='float' and no to integer beacause the executor interpret NaN values as float.\n",
    "'''\n",
    "sets_range = sets.copy()\n",
    "sets_range.year = pd.to_numeric(sets_range['year'],errors='coerce',downcast='float')\n",
    "#sets_range_ = sets_range[~sets_range.year.isna()]"
   ]
  },
  {
   "cell_type": "code",
   "execution_count": 6,
   "metadata": {},
   "outputs": [
    {
     "data": {
      "text/plain": [
       "40343.0"
      ]
     },
     "execution_count": 6,
     "metadata": {},
     "output_type": "execute_result"
    }
   ],
   "source": [
    "'''\n",
    "We can see that the range is too big which implie that our data contain very distant values.\n",
    "'''\n",
    "sets_range.year.max()-sets_range.year.min()"
   ]
  },
  {
   "cell_type": "code",
   "execution_count": 7,
   "metadata": {},
   "outputs": [],
   "source": [
    "''' \n",
    "In order to conserve a maximum amout of data we first started by observing and studying negative values\n",
    "So that we concluded that some of them seems to be correct if we take their absolute values.\n",
    "'''\n",
    "sets_range.year = sets_range.year.abs()"
   ]
  },
  {
   "cell_type": "code",
   "execution_count": 8,
   "metadata": {},
   "outputs": [],
   "source": [
    "'''\n",
    "At this stage, we observed that in some year entries where the size in integer is 5 digits the last 2 digits are\n",
    "the same so we concluded that this a typo so we did the following step to delete the last digit.\n",
    "We ignored values such 70s beacause they do represent roughly 1% of our data and we can either transform them\n",
    "to 1970 or choose the most frequent year in the 70s but we cannot be sur that the value we are going to give\n",
    "is correct so we decided to ignore them.\n",
    "'''\n",
    "sets_range.year=sets_range.year.apply(lambda year: math.floor(year/10) if \n",
    "                                      len(str(year))==7 and str(year)[3]==str(year)[4] else year)"
   ]
  },
  {
   "cell_type": "code",
   "execution_count": 9,
   "metadata": {},
   "outputs": [
    {
     "data": {
      "text/plain": [
       "67.0"
      ]
     },
     "execution_count": 9,
     "metadata": {},
     "output_type": "execute_result"
    }
   ],
   "source": [
    "'''\n",
    "At this step we can check that the range seems to be reasonable\n",
    "'''\n",
    "sets_range.year.max()-sets_range.year.min()"
   ]
  },
  {
   "cell_type": "markdown",
   "metadata": {},
   "source": [
    "### Average quantity"
   ]
  },
  {
   "cell_type": "code",
   "execution_count": 10,
   "metadata": {},
   "outputs": [
    {
     "data": {
      "text/plain": [
       "-inf"
      ]
     },
     "execution_count": 10,
     "metadata": {},
     "output_type": "execute_result"
    }
   ],
   "source": [
    "'''\n",
    "The inventory parts quantity is equal to infinite which mean that it contains infinite values.\n",
    "'''\n",
    "inventory_parts.quantity.mean()"
   ]
  },
  {
   "cell_type": "code",
   "execution_count": 11,
   "metadata": {},
   "outputs": [],
   "source": [
    "'''\n",
    "we copy our data to presrve the intial data, and we replaced the inf values with the nan values so that we wont\n",
    "delete all the row and lose infomration.\n",
    "'''\n",
    "inventory_parts_cleaned=inventory_parts.copy()\n",
    "inventory_parts_cleaned.quantity=inventory_parts_cleaned.quantity.replace(-np.inf,np.nan )"
   ]
  },
  {
   "cell_type": "code",
   "execution_count": 12,
   "metadata": {},
   "outputs": [
    {
     "data": {
      "text/plain": [
       "3.836938260983857"
      ]
     },
     "execution_count": 12,
     "metadata": {},
     "output_type": "execute_result"
    }
   ],
   "source": [
    "'''\n",
    "As you can see the mean seem to be more reasonable.\n",
    "'''\n",
    "inventory_parts_cleaned.quantity.mean()"
   ]
  },
  {
   "cell_type": "markdown",
   "metadata": {},
   "source": [
    "__\\* Briefly explain your approach here \\*__"
   ]
  },
  {
   "cell_type": "markdown",
   "metadata": {},
   "source": [
    "### A3. Querying phase\n",
    "Answer the following queries using the functionality of `Pandas`:\n",
    "\n",
    "1. List the ids of the inventories that belong to sets that contain cars. (*Hint: Find a smart way to distinguish which sets contain cars based on the sets' name*).\n",
    "* Plot the distribution of part categories as a (horizontal) bar chart. Restrict yourself to the 20 largest part categories (in terms of the number of parts belonging to the category).\n",
    "* Find the dominant color of each set. Then, plot using a (horizontal) bar chart, the number of sets per dominant color. Color each bar with the respective color that it represents.\n",
    "* Create a scatter plot of the *luminance*\\* of the sets vs their publishing year. What do you observe for the years 1980-1981? How do you interpret what you see?\n",
    "\n",
    "\\*The luminance of a color is a [measure of brightness](https://en.wikipedia.org/wiki/Luminance) which, given its RGB representation, can be computed as follows:\n",
    "\n",
    "$luminance = \\sqrt{0.299*R^2 + 0.587*G^2 + 0.114*B^2}$"
   ]
  },
  {
   "cell_type": "code",
   "execution_count": 13,
   "metadata": {},
   "outputs": [],
   "source": [
    "#Fisrt question:\n",
    "'''\n",
    "To obtain all the variations of cars we first started by selecting sentences that endswith Car and car, \n",
    "Also sentences that contain car in the middle so we added spaces before and after, The third one \n",
    "is select sentences where car is in the first position, and the last line is for plural. \n",
    "'''\n",
    "cars = sets_range[sets_range['name'].str.endswith('Car')| sets_range['name'].str.endswith('car')|\n",
    "                  sets_range['name'].str.contains(' car ')| sets_range['name'].str.contains(' Car ')|\n",
    "                  sets_range['name'].str.contains('car ')| sets_range['name'].str.contains('Car ')|\n",
    "                  sets_range['name'].str.contains('Cars')|sets_range['name'].str.contains('cars')]"
   ]
  },
  {
   "cell_type": "code",
   "execution_count": 14,
   "metadata": {},
   "outputs": [
    {
     "data": {
      "text/html": [
       "<div>\n",
       "<style scoped>\n",
       "    .dataframe tbody tr th:only-of-type {\n",
       "        vertical-align: middle;\n",
       "    }\n",
       "\n",
       "    .dataframe tbody tr th {\n",
       "        vertical-align: top;\n",
       "    }\n",
       "\n",
       "    .dataframe thead th {\n",
       "        text-align: right;\n",
       "    }\n",
       "</style>\n",
       "<table border=\"1\" class=\"dataframe\">\n",
       "  <thead>\n",
       "    <tr style=\"text-align: right;\">\n",
       "      <th></th>\n",
       "      <th>id</th>\n",
       "      <th>name</th>\n",
       "      <th>year</th>\n",
       "      <th>theme_id</th>\n",
       "      <th>num_parts</th>\n",
       "    </tr>\n",
       "  </thead>\n",
       "  <tbody>\n",
       "    <tr>\n",
       "      <th>27</th>\n",
       "      <td>10002-1</td>\n",
       "      <td>Railroad Club Car</td>\n",
       "      <td>2001.0</td>\n",
       "      <td>233</td>\n",
       "      <td>272</td>\n",
       "    </tr>\n",
       "    <tr>\n",
       "      <th>50</th>\n",
       "      <td>10022-1</td>\n",
       "      <td>Santa Fe Cars - Set II (dining, observation, o...</td>\n",
       "      <td>2002.0</td>\n",
       "      <td>237</td>\n",
       "      <td>410</td>\n",
       "    </tr>\n",
       "    <tr>\n",
       "      <th>53</th>\n",
       "      <td>10025-1</td>\n",
       "      <td>Santa Fe Cars - Set I (mail or baggage car)</td>\n",
       "      <td>2002.0</td>\n",
       "      <td>237</td>\n",
       "      <td>325</td>\n",
       "    </tr>\n",
       "    <tr>\n",
       "      <th>142</th>\n",
       "      <td>10158-1</td>\n",
       "      <td>High Speed Train Car</td>\n",
       "      <td>2004.0</td>\n",
       "      <td>239</td>\n",
       "      <td>151</td>\n",
       "    </tr>\n",
       "    <tr>\n",
       "      <th>154</th>\n",
       "      <td>10170-1</td>\n",
       "      <td>TTX Intermodal Double-Stack Car</td>\n",
       "      <td>2005.0</td>\n",
       "      <td>236</td>\n",
       "      <td>365</td>\n",
       "    </tr>\n",
       "  </tbody>\n",
       "</table>\n",
       "</div>"
      ],
      "text/plain": [
       "          id                                               name    year  \\\n",
       "27   10002-1                                  Railroad Club Car  2001.0   \n",
       "50   10022-1  Santa Fe Cars - Set II (dining, observation, o...  2002.0   \n",
       "53   10025-1        Santa Fe Cars - Set I (mail or baggage car)  2002.0   \n",
       "142  10158-1                               High Speed Train Car  2004.0   \n",
       "154  10170-1                    TTX Intermodal Double-Stack Car  2005.0   \n",
       "\n",
       "     theme_id  num_parts  \n",
       "27        233        272  \n",
       "50        237        410  \n",
       "53        237        325  \n",
       "142       239        151  \n",
       "154       236        365  "
      ]
     },
     "execution_count": 14,
     "metadata": {},
     "output_type": "execute_result"
    }
   ],
   "source": [
    "cars.head()"
   ]
  },
  {
   "cell_type": "code",
   "execution_count": 15,
   "metadata": {
    "scrolled": true
   },
   "outputs": [],
   "source": [
    "#Second question\n",
    "'''\n",
    "We first merged the car dataFrame above with the inventory_sets dataFrame in order to keep only indexes that \n",
    "we need and this is  why we have set how='inner'.\n",
    "After that we took the resulting dataFrame and we counted the values using part_cat_id as index to count \n",
    "the number of parts that belongs to a certain category as it's already sorted by the method we transforme \n",
    "it to a dataframe and set the index to plot the barchart with the right axis.\n",
    "'''\n",
    "inventory_cars_id=pd.DataFrame.merge(cars,inventory_sets,how='inner', \n",
    "                                     left_on=cars.id,right_on=inventory_sets.set_id)[['id']]"
   ]
  },
  {
   "cell_type": "code",
   "execution_count": 16,
   "metadata": {},
   "outputs": [
    {
     "data": {
      "text/plain": [
       "<matplotlib.axes._subplots.AxesSubplot at 0x7f6535e78390>"
      ]
     },
     "execution_count": 16,
     "metadata": {},
     "output_type": "execute_result"
    },
    {
     "data": {
      "image/png": "[encoded data removed]",
      "text/plain": [
       "<Figure size 1440x1008 with 1 Axes>"
      ]
     },
     "metadata": {
      "needs_background": "light"
     },
     "output_type": "display_data"
    }
   ],
   "source": [
    "part_per_category=parts.part_cat_id.value_counts().head(20).to_frame()\n",
    "#we did the following merge in order to have names at the axis plot instead pf category ids.\n",
    "count_with_names=pd.merge(part_per_category,part_categories,how='left', left_on=part_per_category.index, \\\n",
    "            right_on = part_categories.id)[['part_cat_id','name']]\n",
    "\n",
    "count_with_names.set_index('name',inplace=True)\n",
    "count_with_names.plot.barh(figsize=(20,14))"
   ]
  },
  {
   "cell_type": "code",
   "execution_count": 17,
   "metadata": {},
   "outputs": [],
   "source": [
    "#Third questions\n",
    "'''\n",
    "To answer the third questions we have done multiplte merges in order to have the set_ID and the rgb color in \n",
    "the same dataframe so that we can do the plot.\n",
    "So we merged the inventory_sets with the sets_range and after that with the inventory parts and one more time\n",
    "with colors. \n",
    "At every step we keep only columns that we are interrested in to minimize the computation. \n",
    "'''\n",
    "inventory_merge_sets = pd.merge(inventory_sets,sets_range,how = 'inner', left_on = inventory_sets.set_id,\n",
    "                                   right_on = sets_range.id)[['inventory_id','set_id']]\n",
    "\n",
    "inventory_merge_sets_merge_parts = pd.merge(inventory_merge_sets,inventory_parts,how = 'inner', \n",
    "                                          left_on = inventory_merge_sets.inventory_id,\n",
    "                                   right_on = inventory_parts.inventory_id)[['set_id','color_id']]\n",
    "\n",
    "inventory_merge_sets_merge_parts = inventory_merge_sets_merge_parts.groupby(['set_id','color_id']).size() \\\n",
    "                            .groupby(level = 0).idxmax().apply(lambda x: x[1]).reset_index(name = 'color_id')\n",
    "\n",
    "sets_colors = pd.merge(inventory_merge_sets_merge_parts,colors,how = 'inner', \n",
    "                                          left_on = inventory_merge_sets_merge_parts.color_id,\n",
    "                                   right_on = colors.id)[['set_id','name','rgb']]"
   ]
  },
  {
   "cell_type": "code",
   "execution_count": 18,
   "metadata": {},
   "outputs": [
    {
     "data": {
      "text/plain": [
       "<matplotlib.axes._subplots.AxesSubplot at 0x7f6534638ba8>"
      ]
     },
     "execution_count": 18,
     "metadata": {},
     "output_type": "execute_result"
    },
    {
     "data": {
      "image/png": "[encoded data removed]",
      "text/plain": [
       "<Figure size 1440x1008 with 1 Axes>"
      ]
     },
     "metadata": {
      "needs_background": "light"
     },
     "output_type": "display_data"
    }
   ],
   "source": [
    "'''\n",
    "At this step we have done the count of the colors and have changed the index to name to have them on the plot.\n",
    "we used as arguments for colors in the plot the rgb that we were given in the dataset.\n",
    "'''\n",
    "sets_colors_plot = sets_colors.groupby(['name','rgb'])['set_id'].count().reset_index().set_index('name')\n",
    "sets_colors_plot.plot.barh(figsize = (20,14),color = [str(\"#\") + sets_colors_plot.rgb], edgecolor='black')\n"
   ]
  },
  {
   "cell_type": "code",
   "execution_count": 19,
   "metadata": {},
   "outputs": [
    {
     "data": {
      "text/plain": [
       "<matplotlib.axes._subplots.AxesSubplot at 0x7f6534b2fa58>"
      ]
     },
     "execution_count": 19,
     "metadata": {},
     "output_type": "execute_result"
    },
    {
     "data": {
      "image/png": "[encoded data removed]",
      "text/plain": [
       "<Figure size 1008x720 with 1 Axes>"
      ]
     },
     "metadata": {
      "needs_background": "light"
     },
     "output_type": "display_data"
    }
   ],
   "source": [
    "'''\n",
    "We applied the lumiance function to our rgb column after extracting the hexadecimal values.\n",
    "To have the year we have done the merge with the sets_range. Again we only keep the minimal number of columns.\n",
    "'''\n",
    "sets_colors.rgb=sets_colors.rgb.apply(lambda hx: (int(hx[0:2],16),int(hx[2:4],16),int(hx[4:6],16)))\n",
    "sets_colors['luminance'] = sets_colors['rgb'].apply(\n",
    "                                lambda x: math.sqrt(0.299*x[0]*x[0]+0.587*x[1]*x[1]+0.114*x[2]*x[2] ))\n",
    "\n",
    "luminance_per_year=pd.merge(sets_colors[['set_id','luminance']],sets_range[['id','year']],how='inner',left_on\n",
    "                 =sets_colors.set_id,right_on=sets.id)[['year','luminance']]\n",
    "\n",
    "luminance_per_year.plot.scatter(x='year',y='luminance',figsize=(14,10),s=100,alpha=0.5)"
   ]
  },
  {
   "cell_type": "markdown",
   "metadata": {},
   "source": [
    "Between the year 1980 and 1981 we can see that the lumiance has experienced one of it's important \n",
    "variation. We can see from the plot that it's even the maximum of lumiance all over the years.\n",
    "To learn more about the problem we have done some google researches and we found this usefull link\n",
    "http://brickarchitect.com/color/ where the explained this peak by the addition of new colors."
   ]
  },
  {
   "cell_type": "markdown",
   "metadata": {},
   "source": [
    "## Task B. Drop the bike\n",
    "\n",
    "*Los Angeles Metro* has been sharing publicly [anonymized *Metro Bike Share* trip data](https://bikeshare.metro.net/about/data/) under the [Open Database License (ODbL)](http://opendatacommons.org/licenses/odbl/1.0/).\n",
    "\n",
    "In this task you will again perform data wrangling and interpretation."
   ]
  },
  {
   "cell_type": "markdown",
   "metadata": {},
   "source": [
    "### B1. Loading phase\n",
    "Load the json file into a `DataFrame`.\n"
   ]
  },
  {
   "cell_type": "code",
   "execution_count": 20,
   "metadata": {},
   "outputs": [],
   "source": [
    "BIKES_DATA_FOLDER = DATA_FOLDER + '/bikes'"
   ]
  },
  {
   "cell_type": "code",
   "execution_count": 21,
   "metadata": {
    "scrolled": true
   },
   "outputs": [
    {
     "data": {
      "text/html": [
       "<div>\n",
       "<style scoped>\n",
       "    .dataframe tbody tr th:only-of-type {\n",
       "        vertical-align: middle;\n",
       "    }\n",
       "\n",
       "    .dataframe tbody tr th {\n",
       "        vertical-align: top;\n",
       "    }\n",
       "\n",
       "    .dataframe thead th {\n",
       "        text-align: right;\n",
       "    }\n",
       "</style>\n",
       "<table border=\"1\" class=\"dataframe\">\n",
       "  <thead>\n",
       "    <tr style=\"text-align: right;\">\n",
       "      <th></th>\n",
       "      <th>Bike ID</th>\n",
       "      <th>Duration</th>\n",
       "      <th>End Time</th>\n",
       "      <th>Ending Station ID</th>\n",
       "      <th>Ending Station Latitude</th>\n",
       "      <th>Ending Station Longitude</th>\n",
       "      <th>Passholder Type</th>\n",
       "      <th>Plan Duration</th>\n",
       "      <th>Start Time</th>\n",
       "      <th>Starting Station ID</th>\n",
       "      <th>Starting Station Latitude</th>\n",
       "      <th>Starting Station Longitude</th>\n",
       "      <th>Trip ID</th>\n",
       "      <th>Trip Route Category</th>\n",
       "    </tr>\n",
       "  </thead>\n",
       "  <tbody>\n",
       "    <tr>\n",
       "      <th>0</th>\n",
       "      <td>6281.0</td>\n",
       "      <td>180</td>\n",
       "      <td>2016-07-07T04:20:00</td>\n",
       "      <td>3014.0</td>\n",
       "      <td>34.056610</td>\n",
       "      <td>-118.23721</td>\n",
       "      <td>Monthly Pass</td>\n",
       "      <td>30.0</td>\n",
       "      <td>2016-07-07T04:17:00</td>\n",
       "      <td>3014.0</td>\n",
       "      <td>34.056610</td>\n",
       "      <td>-118.23721</td>\n",
       "      <td>1912818</td>\n",
       "      <td>Round Trip</td>\n",
       "    </tr>\n",
       "    <tr>\n",
       "      <th>1</th>\n",
       "      <td>6281.0</td>\n",
       "      <td>1980</td>\n",
       "      <td>2016-07-07T06:33:00</td>\n",
       "      <td>3014.0</td>\n",
       "      <td>34.056610</td>\n",
       "      <td>-118.23721</td>\n",
       "      <td>Monthly Pass</td>\n",
       "      <td>30.0</td>\n",
       "      <td>2016-07-07T06:00:00</td>\n",
       "      <td>3014.0</td>\n",
       "      <td>34.056610</td>\n",
       "      <td>-118.23721</td>\n",
       "      <td>1919661</td>\n",
       "      <td>Round Trip</td>\n",
       "    </tr>\n",
       "    <tr>\n",
       "      <th>2</th>\n",
       "      <td>5861.0</td>\n",
       "      <td>300</td>\n",
       "      <td>2016-07-07T10:37:00</td>\n",
       "      <td>3016.0</td>\n",
       "      <td>34.052898</td>\n",
       "      <td>-118.24156</td>\n",
       "      <td>Flex Pass</td>\n",
       "      <td>365.0</td>\n",
       "      <td>2016-07-07T10:32:00</td>\n",
       "      <td>3016.0</td>\n",
       "      <td>34.052898</td>\n",
       "      <td>-118.24156</td>\n",
       "      <td>1933383</td>\n",
       "      <td>Round Trip</td>\n",
       "    </tr>\n",
       "    <tr>\n",
       "      <th>3</th>\n",
       "      <td>5861.0</td>\n",
       "      <td>10860</td>\n",
       "      <td>2016-07-07T13:38:00</td>\n",
       "      <td>3016.0</td>\n",
       "      <td>34.052898</td>\n",
       "      <td>-118.24156</td>\n",
       "      <td>Flex Pass</td>\n",
       "      <td>365.0</td>\n",
       "      <td>2016-07-07T10:37:00</td>\n",
       "      <td>3016.0</td>\n",
       "      <td>34.052898</td>\n",
       "      <td>-118.24156</td>\n",
       "      <td>1944197</td>\n",
       "      <td>Round Trip</td>\n",
       "    </tr>\n",
       "    <tr>\n",
       "      <th>4</th>\n",
       "      <td>6674.0</td>\n",
       "      <td>420</td>\n",
       "      <td>2016-07-07T12:58:00</td>\n",
       "      <td>3032.0</td>\n",
       "      <td>34.049889</td>\n",
       "      <td>-118.25588</td>\n",
       "      <td>Walk-up</td>\n",
       "      <td>0.0</td>\n",
       "      <td>2016-07-07T12:51:00</td>\n",
       "      <td>3032.0</td>\n",
       "      <td>34.049889</td>\n",
       "      <td>-118.25588</td>\n",
       "      <td>1940317</td>\n",
       "      <td>Round Trip</td>\n",
       "    </tr>\n",
       "  </tbody>\n",
       "</table>\n",
       "</div>"
      ],
      "text/plain": [
       "   Bike ID  Duration             End Time  Ending Station ID  \\\n",
       "0   6281.0       180  2016-07-07T04:20:00             3014.0   \n",
       "1   6281.0      1980  2016-07-07T06:33:00             3014.0   \n",
       "2   5861.0       300  2016-07-07T10:37:00             3016.0   \n",
       "3   5861.0     10860  2016-07-07T13:38:00             3016.0   \n",
       "4   6674.0       420  2016-07-07T12:58:00             3032.0   \n",
       "\n",
       "   Ending Station Latitude  Ending Station Longitude Passholder Type  \\\n",
       "0                34.056610                -118.23721    Monthly Pass   \n",
       "1                34.056610                -118.23721    Monthly Pass   \n",
       "2                34.052898                -118.24156       Flex Pass   \n",
       "3                34.052898                -118.24156       Flex Pass   \n",
       "4                34.049889                -118.25588         Walk-up   \n",
       "\n",
       "   Plan Duration           Start Time  Starting Station ID  \\\n",
       "0           30.0  2016-07-07T04:17:00               3014.0   \n",
       "1           30.0  2016-07-07T06:00:00               3014.0   \n",
       "2          365.0  2016-07-07T10:32:00               3016.0   \n",
       "3          365.0  2016-07-07T10:37:00               3016.0   \n",
       "4            0.0  2016-07-07T12:51:00               3032.0   \n",
       "\n",
       "   Starting Station Latitude  Starting Station Longitude  Trip ID  \\\n",
       "0                  34.056610                  -118.23721  1912818   \n",
       "1                  34.056610                  -118.23721  1919661   \n",
       "2                  34.052898                  -118.24156  1933383   \n",
       "3                  34.052898                  -118.24156  1944197   \n",
       "4                  34.049889                  -118.25588  1940317   \n",
       "\n",
       "  Trip Route Category  \n",
       "0          Round Trip  \n",
       "1          Round Trip  \n",
       "2          Round Trip  \n",
       "3          Round Trip  \n",
       "4          Round Trip  "
      ]
     },
     "execution_count": 21,
     "metadata": {},
     "output_type": "execute_result"
    }
   ],
   "source": [
    "zipped_bikes = zipfile.ZipFile(BIKES_DATA_FOLDER +'/metro-bike-share-trip-data.json.zip')\n",
    "bikes = pd.DataFrame(json.loads(zipped_bikes.read(zipped_bikes.infolist()[0]).decode()))\n",
    "bikes.head()"
   ]
  },
  {
   "cell_type": "markdown",
   "metadata": {},
   "source": [
    "### B2. Cleaning phase\n",
    "Describe the type and the value range of each attribute. Indicate and transform the attributes that are `Categorical`. Are there redundant columns in the dataset (i.e., are there columns whose value depends only on the value of another column)? What are the possible pitfalls of having such columns? Reduce *data redundancy* by extracting such columns to separate `DataFrames`. Which of the two formats (the initial one or the one with reduced data redundancy) is more susceptible to inconsistencies? At the end print for each `Dataframe` the *type of each column* and it's *shape*."
   ]
  },
  {
   "cell_type": "code",
   "execution_count": 22,
   "metadata": {},
   "outputs": [
    {
     "name": "stdout",
     "output_type": "stream",
     "text": [
      "<class 'pandas.core.frame.DataFrame'>\n",
      "RangeIndex: 132427 entries, 0 to 132426\n",
      "Data columns (total 14 columns):\n",
      "Bike ID                       132417 non-null float64\n",
      "Duration                      132427 non-null int64\n",
      "End Time                      132427 non-null object\n",
      "Ending Station ID             132331 non-null float64\n",
      "Ending Station Latitude       131376 non-null float64\n",
      "Ending Station Longitude      131376 non-null float64\n",
      "Passholder Type               132427 non-null object\n",
      "Plan Duration                 131661 non-null float64\n",
      "Start Time                    132427 non-null object\n",
      "Starting Station ID           132408 non-null float64\n",
      "Starting Station Latitude     132379 non-null float64\n",
      "Starting Station Longitude    132379 non-null float64\n",
      "Trip ID                       132427 non-null int64\n",
      "Trip Route Category           132427 non-null object\n",
      "dtypes: float64(8), int64(2), object(4)\n",
      "memory usage: 14.1+ MB\n"
     ]
    }
   ],
   "source": [
    "'''\n",
    "With the info methode we can see the type of the attributes and how many of them are non null.\n",
    "The attributes are either float64, int64 or object. \n",
    "Bike ID, Ending Station ID, Plan Duration, Starting station ID : Are considered as float64 beacause their rows \n",
    "contain missing informations and pd have put NaN in them so they are converted to float64 instead of being integer\n",
    "like Duration and Trip ID.\n",
    "End Time and Start Time are considered as objects\n",
    "Passholder Type, Plan Duration and Trip Route Category are also considered as object, later we will convert them \n",
    "to Categorical objects.\n",
    "'''\n",
    "bikes.info()"
   ]
  },
  {
   "cell_type": "code",
   "execution_count": 23,
   "metadata": {},
   "outputs": [
    {
     "data": {
      "text/html": [
       "<div>\n",
       "<style scoped>\n",
       "    .dataframe tbody tr th:only-of-type {\n",
       "        vertical-align: middle;\n",
       "    }\n",
       "\n",
       "    .dataframe tbody tr th {\n",
       "        vertical-align: top;\n",
       "    }\n",
       "\n",
       "    .dataframe thead th {\n",
       "        text-align: right;\n",
       "    }\n",
       "</style>\n",
       "<table border=\"1\" class=\"dataframe\">\n",
       "  <thead>\n",
       "    <tr style=\"text-align: right;\">\n",
       "      <th></th>\n",
       "      <th>Bike ID</th>\n",
       "      <th>Duration</th>\n",
       "      <th>End Time</th>\n",
       "      <th>Ending Station ID</th>\n",
       "      <th>Ending Station Latitude</th>\n",
       "      <th>Ending Station Longitude</th>\n",
       "      <th>Passholder Type</th>\n",
       "      <th>Plan Duration</th>\n",
       "      <th>Start Time</th>\n",
       "      <th>Starting Station ID</th>\n",
       "      <th>Starting Station Latitude</th>\n",
       "      <th>Starting Station Longitude</th>\n",
       "      <th>Trip ID</th>\n",
       "      <th>Trip Route Category</th>\n",
       "    </tr>\n",
       "  </thead>\n",
       "  <tbody>\n",
       "    <tr>\n",
       "      <th>max</th>\n",
       "      <td>6728.0</td>\n",
       "      <td>86400.0</td>\n",
       "      <td>NaN</td>\n",
       "      <td>4108.0</td>\n",
       "      <td>34.064281</td>\n",
       "      <td>0.000000</td>\n",
       "      <td>NaN</td>\n",
       "      <td>365.0</td>\n",
       "      <td>NaN</td>\n",
       "      <td>4108.0</td>\n",
       "      <td>34.064281</td>\n",
       "      <td>0.000000</td>\n",
       "      <td>23794218.0</td>\n",
       "      <td>NaN</td>\n",
       "    </tr>\n",
       "    <tr>\n",
       "      <th>min</th>\n",
       "      <td>1349.0</td>\n",
       "      <td>60.0</td>\n",
       "      <td>NaN</td>\n",
       "      <td>3000.0</td>\n",
       "      <td>0.000000</td>\n",
       "      <td>-118.472832</td>\n",
       "      <td>NaN</td>\n",
       "      <td>0.0</td>\n",
       "      <td>NaN</td>\n",
       "      <td>3000.0</td>\n",
       "      <td>0.000000</td>\n",
       "      <td>-118.472832</td>\n",
       "      <td>1912818.0</td>\n",
       "      <td>NaN</td>\n",
       "    </tr>\n",
       "    <tr>\n",
       "      <th>range</th>\n",
       "      <td>5379.0</td>\n",
       "      <td>86340.0</td>\n",
       "      <td>NaN</td>\n",
       "      <td>1108.0</td>\n",
       "      <td>34.064281</td>\n",
       "      <td>118.472832</td>\n",
       "      <td>NaN</td>\n",
       "      <td>365.0</td>\n",
       "      <td>NaN</td>\n",
       "      <td>1108.0</td>\n",
       "      <td>34.064281</td>\n",
       "      <td>118.472832</td>\n",
       "      <td>21881400.0</td>\n",
       "      <td>NaN</td>\n",
       "    </tr>\n",
       "  </tbody>\n",
       "</table>\n",
       "</div>"
      ],
      "text/plain": [
       "       Bike ID  Duration End Time  Ending Station ID  Ending Station Latitude  \\\n",
       "max     6728.0   86400.0      NaN             4108.0                34.064281   \n",
       "min     1349.0      60.0      NaN             3000.0                 0.000000   \n",
       "range   5379.0   86340.0      NaN             1108.0                34.064281   \n",
       "\n",
       "       Ending Station Longitude Passholder Type  Plan Duration Start Time  \\\n",
       "max                    0.000000             NaN          365.0        NaN   \n",
       "min                 -118.472832             NaN            0.0        NaN   \n",
       "range                118.472832             NaN          365.0        NaN   \n",
       "\n",
       "       Starting Station ID  Starting Station Latitude  \\\n",
       "max                 4108.0                  34.064281   \n",
       "min                 3000.0                   0.000000   \n",
       "range               1108.0                  34.064281   \n",
       "\n",
       "       Starting Station Longitude     Trip ID Trip Route Category  \n",
       "max                      0.000000  23794218.0                 NaN  \n",
       "min                   -118.472832   1912818.0                 NaN  \n",
       "range                  118.472832  21881400.0                 NaN  "
      ]
     },
     "execution_count": 23,
     "metadata": {},
     "output_type": "execute_result"
    }
   ],
   "source": [
    "'''\n",
    "With the describe function we can observe the max and the min of each attribute from which we can easely find \n",
    "the range.\n",
    "Describe will only give us the values for attributes of type float64 or int64 but not the others.\n",
    "'''\n",
    "describe=bikes.describe(include='all').loc[['max','min']]\n",
    "describe.loc['range']= (describe.loc['max']-describe.loc['min'])\n",
    "describe"
   ]
  },
  {
   "cell_type": "code",
   "execution_count": 24,
   "metadata": {},
   "outputs": [
    {
     "data": {
      "text/plain": [
       "'\\nIn Order to calculate the value range of the other variables we need to proceed according to each attribute type.\\nRemaining attributes: End Time, Start Time, Plan Duration, Passholder Type, Trip Route Category. \\nThe attributes that are categorical : Plan Duration, Passholder Type, Trip Route Category.\\n'"
      ]
     },
     "execution_count": 24,
     "metadata": {},
     "output_type": "execute_result"
    }
   ],
   "source": [
    "'''\n",
    "In Order to calculate the value range of the other variables we need to proceed according to each attribute type.\n",
    "Remaining attributes: End Time, Start Time, Plan Duration, Passholder Type, Trip Route Category. \n",
    "The attributes that are categorical : Plan Duration, Passholder Type, Trip Route Category.\n",
    "'''"
   ]
  },
  {
   "cell_type": "code",
   "execution_count": 25,
   "metadata": {},
   "outputs": [
    {
     "data": {
      "text/plain": [
       "str"
      ]
     },
     "execution_count": 25,
     "metadata": {},
     "output_type": "execute_result"
    }
   ],
   "source": [
    "'''\n",
    "As you can see below the type of Start time and End time are String. \n",
    "So we are going to transform them into datetime in order to extract the range.\n",
    "'''\n",
    "type(bikes['Start Time'][0])"
   ]
  },
  {
   "cell_type": "code",
   "execution_count": 26,
   "metadata": {},
   "outputs": [],
   "source": [
    "bikes['Start Time'] = pd.to_datetime(bikes['Start Time'], format = '%Y-%m-%dT%H:%M:%S')\n",
    "bikes['End Time'] = pd.to_datetime(bikes['End Time'], format = '%Y-%m-%dT%H:%M:%S')"
   ]
  },
  {
   "cell_type": "code",
   "execution_count": 27,
   "metadata": {},
   "outputs": [
    {
     "name": "stdout",
     "output_type": "stream",
     "text": [
      "The range of End Time is: 269 days 06:12:00\n",
      "The rane of Start Time is: 267 days 19:28:00\n"
     ]
    }
   ],
   "source": [
    "print(\"The range of End Time is: \" + str(max(bikes['End Time'])-min(bikes['End Time'])) + \"\\n\"\n",
    "      \"The rane of Start Time is: \" + str(max(bikes['Start Time'])-min(bikes['Start Time'])))"
   ]
  },
  {
   "cell_type": "code",
   "execution_count": 28,
   "metadata": {},
   "outputs": [],
   "source": [
    "###Indicate and transform the attributes that are Categorical\n",
    "bikes[\"Plan Duration\"] = bikes[\"Plan Duration\"].astype('category')\n",
    "bikes[\"Trip Route Category\"] = bikes[\"Trip Route Category\"].astype('category')\n",
    "bikes[\"Passholder Type\"] = bikes[\"Passholder Type\"].astype('category')"
   ]
  },
  {
   "cell_type": "markdown",
   "metadata": {},
   "source": [
    "# Answering the first question.\n",
    "The redudant columns are duration and start time and end time: We can only keep 2 of them to have all the \n",
    "informations we need.\n",
    "For the station longitude and latitude we can see that it depends only on the station so we can have new dataframe with station ID and their longitude and latitude and keep station ID only in the bikes dataframe.\n",
    "Also we can see that we can deduce the passholder type from or the plan duration so we will keep only one of them and have only one column in the initial dataframe.\n"
   ]
  },
  {
   "cell_type": "code",
   "execution_count": 29,
   "metadata": {},
   "outputs": [],
   "source": [
    "'''\n",
    "I am going to drop the column End Time, with Start Time and Duration I can know the End Time\n",
    "'''\n",
    "bikes_non_redundant=bikes.copy()\n",
    "bikes_non_redundant=bikes_non_redundant.drop(labels='End Time', axis=1)"
   ]
  },
  {
   "cell_type": "code",
   "execution_count": 30,
   "metadata": {},
   "outputs": [
    {
     "data": {
      "text/html": [
       "<div>\n",
       "<style scoped>\n",
       "    .dataframe tbody tr th:only-of-type {\n",
       "        vertical-align: middle;\n",
       "    }\n",
       "\n",
       "    .dataframe tbody tr th {\n",
       "        vertical-align: top;\n",
       "    }\n",
       "\n",
       "    .dataframe thead th {\n",
       "        text-align: right;\n",
       "    }\n",
       "</style>\n",
       "<table border=\"1\" class=\"dataframe\">\n",
       "  <thead>\n",
       "    <tr style=\"text-align: right;\">\n",
       "      <th></th>\n",
       "      <th>Passholder Type</th>\n",
       "      <th>Plan Duration</th>\n",
       "    </tr>\n",
       "  </thead>\n",
       "  <tbody>\n",
       "    <tr>\n",
       "      <th>0</th>\n",
       "      <td>Monthly Pass</td>\n",
       "      <td>30.0</td>\n",
       "    </tr>\n",
       "    <tr>\n",
       "      <th>2</th>\n",
       "      <td>Flex Pass</td>\n",
       "      <td>365.0</td>\n",
       "    </tr>\n",
       "    <tr>\n",
       "      <th>4</th>\n",
       "      <td>Walk-up</td>\n",
       "      <td>0.0</td>\n",
       "    </tr>\n",
       "    <tr>\n",
       "      <th>55790</th>\n",
       "      <td>Staff Annual</td>\n",
       "      <td>NaN</td>\n",
       "    </tr>\n",
       "    <tr>\n",
       "      <th>98675</th>\n",
       "      <td>Monthly Pass</td>\n",
       "      <td>NaN</td>\n",
       "    </tr>\n",
       "  </tbody>\n",
       "</table>\n",
       "</div>"
      ],
      "text/plain": [
       "      Passholder Type Plan Duration\n",
       "0        Monthly Pass          30.0\n",
       "2           Flex Pass         365.0\n",
       "4             Walk-up           0.0\n",
       "55790    Staff Annual           NaN\n",
       "98675    Monthly Pass           NaN"
      ]
     },
     "execution_count": 30,
     "metadata": {},
     "output_type": "execute_result"
    }
   ],
   "source": [
    "passholder_planDuration = pd.DataFrame(bikes_non_redundant,columns=['Passholder Type','Plan Duration'])\n",
    "passholder_planDuration = passholder_planDuration.drop_duplicates()\n",
    "passholder_planDuration.head()"
   ]
  },
  {
   "cell_type": "code",
   "execution_count": 31,
   "metadata": {},
   "outputs": [
    {
     "data": {
      "text/html": [
       "<div>\n",
       "<style scoped>\n",
       "    .dataframe tbody tr th:only-of-type {\n",
       "        vertical-align: middle;\n",
       "    }\n",
       "\n",
       "    .dataframe tbody tr th {\n",
       "        vertical-align: top;\n",
       "    }\n",
       "\n",
       "    .dataframe thead th {\n",
       "        text-align: right;\n",
       "    }\n",
       "</style>\n",
       "<table border=\"1\" class=\"dataframe\">\n",
       "  <thead>\n",
       "    <tr style=\"text-align: right;\">\n",
       "      <th></th>\n",
       "      <th>Starting Station ID</th>\n",
       "      <th>Starting Station Latitude</th>\n",
       "      <th>Starting Station Longitude</th>\n",
       "    </tr>\n",
       "  </thead>\n",
       "  <tbody>\n",
       "    <tr>\n",
       "      <th>0</th>\n",
       "      <td>3014.0</td>\n",
       "      <td>34.056610</td>\n",
       "      <td>-118.23721</td>\n",
       "    </tr>\n",
       "    <tr>\n",
       "      <th>2</th>\n",
       "      <td>3016.0</td>\n",
       "      <td>34.052898</td>\n",
       "      <td>-118.24156</td>\n",
       "    </tr>\n",
       "    <tr>\n",
       "      <th>4</th>\n",
       "      <td>3032.0</td>\n",
       "      <td>34.049889</td>\n",
       "      <td>-118.25588</td>\n",
       "    </tr>\n",
       "    <tr>\n",
       "      <th>5</th>\n",
       "      <td>3021.0</td>\n",
       "      <td>34.045609</td>\n",
       "      <td>-118.23703</td>\n",
       "    </tr>\n",
       "    <tr>\n",
       "      <th>6</th>\n",
       "      <td>3022.0</td>\n",
       "      <td>34.046070</td>\n",
       "      <td>-118.23309</td>\n",
       "    </tr>\n",
       "  </tbody>\n",
       "</table>\n",
       "</div>"
      ],
      "text/plain": [
       "   Starting Station ID  Starting Station Latitude  Starting Station Longitude\n",
       "0               3014.0                  34.056610                  -118.23721\n",
       "2               3016.0                  34.052898                  -118.24156\n",
       "4               3032.0                  34.049889                  -118.25588\n",
       "5               3021.0                  34.045609                  -118.23703\n",
       "6               3022.0                  34.046070                  -118.23309"
      ]
     },
     "execution_count": 31,
     "metadata": {},
     "output_type": "execute_result"
    }
   ],
   "source": [
    "station_ID_long_lattitude = pd.DataFrame(bikes,columns=['Starting Station ID','Starting Station Latitude'\n",
    "                                                                   ,'Starting Station Longitude'])\n",
    "station_ID_long_lattitude=station_ID_long_lattitude.drop_duplicates()\n",
    "station_ID_long_lattitude.head()"
   ]
  },
  {
   "cell_type": "code",
   "execution_count": 32,
   "metadata": {},
   "outputs": [
    {
     "data": {
      "text/html": [
       "<div>\n",
       "<style scoped>\n",
       "    .dataframe tbody tr th:only-of-type {\n",
       "        vertical-align: middle;\n",
       "    }\n",
       "\n",
       "    .dataframe tbody tr th {\n",
       "        vertical-align: top;\n",
       "    }\n",
       "\n",
       "    .dataframe thead th {\n",
       "        text-align: right;\n",
       "    }\n",
       "</style>\n",
       "<table border=\"1\" class=\"dataframe\">\n",
       "  <thead>\n",
       "    <tr style=\"text-align: right;\">\n",
       "      <th></th>\n",
       "      <th>Bike ID</th>\n",
       "      <th>Duration</th>\n",
       "      <th>Ending Station ID</th>\n",
       "      <th>Passholder Type</th>\n",
       "      <th>Plan Duration</th>\n",
       "      <th>Start Time</th>\n",
       "      <th>Starting Station ID</th>\n",
       "      <th>Trip ID</th>\n",
       "      <th>Trip Route Category</th>\n",
       "    </tr>\n",
       "  </thead>\n",
       "  <tbody>\n",
       "    <tr>\n",
       "      <th>0</th>\n",
       "      <td>6281.0</td>\n",
       "      <td>180</td>\n",
       "      <td>3014.0</td>\n",
       "      <td>Monthly Pass</td>\n",
       "      <td>30.0</td>\n",
       "      <td>2016-07-07 04:17:00</td>\n",
       "      <td>3014.0</td>\n",
       "      <td>1912818</td>\n",
       "      <td>Round Trip</td>\n",
       "    </tr>\n",
       "    <tr>\n",
       "      <th>1</th>\n",
       "      <td>6281.0</td>\n",
       "      <td>1980</td>\n",
       "      <td>3014.0</td>\n",
       "      <td>Monthly Pass</td>\n",
       "      <td>30.0</td>\n",
       "      <td>2016-07-07 06:00:00</td>\n",
       "      <td>3014.0</td>\n",
       "      <td>1919661</td>\n",
       "      <td>Round Trip</td>\n",
       "    </tr>\n",
       "    <tr>\n",
       "      <th>2</th>\n",
       "      <td>5861.0</td>\n",
       "      <td>300</td>\n",
       "      <td>3016.0</td>\n",
       "      <td>Flex Pass</td>\n",
       "      <td>365.0</td>\n",
       "      <td>2016-07-07 10:32:00</td>\n",
       "      <td>3016.0</td>\n",
       "      <td>1933383</td>\n",
       "      <td>Round Trip</td>\n",
       "    </tr>\n",
       "    <tr>\n",
       "      <th>3</th>\n",
       "      <td>5861.0</td>\n",
       "      <td>10860</td>\n",
       "      <td>3016.0</td>\n",
       "      <td>Flex Pass</td>\n",
       "      <td>365.0</td>\n",
       "      <td>2016-07-07 10:37:00</td>\n",
       "      <td>3016.0</td>\n",
       "      <td>1944197</td>\n",
       "      <td>Round Trip</td>\n",
       "    </tr>\n",
       "    <tr>\n",
       "      <th>4</th>\n",
       "      <td>6674.0</td>\n",
       "      <td>420</td>\n",
       "      <td>3032.0</td>\n",
       "      <td>Walk-up</td>\n",
       "      <td>0.0</td>\n",
       "      <td>2016-07-07 12:51:00</td>\n",
       "      <td>3032.0</td>\n",
       "      <td>1940317</td>\n",
       "      <td>Round Trip</td>\n",
       "    </tr>\n",
       "  </tbody>\n",
       "</table>\n",
       "</div>"
      ],
      "text/plain": [
       "   Bike ID  Duration  Ending Station ID Passholder Type Plan Duration  \\\n",
       "0   6281.0       180             3014.0    Monthly Pass          30.0   \n",
       "1   6281.0      1980             3014.0    Monthly Pass          30.0   \n",
       "2   5861.0       300             3016.0       Flex Pass         365.0   \n",
       "3   5861.0     10860             3016.0       Flex Pass         365.0   \n",
       "4   6674.0       420             3032.0         Walk-up           0.0   \n",
       "\n",
       "           Start Time  Starting Station ID  Trip ID Trip Route Category  \n",
       "0 2016-07-07 04:17:00               3014.0  1912818          Round Trip  \n",
       "1 2016-07-07 06:00:00               3014.0  1919661          Round Trip  \n",
       "2 2016-07-07 10:32:00               3016.0  1933383          Round Trip  \n",
       "3 2016-07-07 10:37:00               3016.0  1944197          Round Trip  \n",
       "4 2016-07-07 12:51:00               3032.0  1940317          Round Trip  "
      ]
     },
     "execution_count": 32,
     "metadata": {},
     "output_type": "execute_result"
    }
   ],
   "source": [
    "bikes_non_redundant=bikes_non_redundant.drop(labels=['Starting Station Latitude','Ending Station Latitude',\n",
    "                                                    'Starting Station Longitude','Ending Station Longitude']\\\n",
    "                                             , axis=1)\n",
    "bikes_non_redundant.head()"
   ]
  },
  {
   "cell_type": "code",
   "execution_count": 33,
   "metadata": {},
   "outputs": [],
   "source": [
    "'''\n",
    "From the description of the data the passholder type = Staff Annual is removed but in the plot in question\n",
    "4 we can see that there is a trace of them, so we will remove them\n",
    "'''\n",
    "bikes_non_redundant=bikes_non_redundant[~(bikes_non_redundant['Passholder Type']=='Staff Annual')]"
   ]
  },
  {
   "cell_type": "code",
   "execution_count": 34,
   "metadata": {},
   "outputs": [
    {
     "data": {
      "text/html": [
       "<div>\n",
       "<style scoped>\n",
       "    .dataframe tbody tr th:only-of-type {\n",
       "        vertical-align: middle;\n",
       "    }\n",
       "\n",
       "    .dataframe tbody tr th {\n",
       "        vertical-align: top;\n",
       "    }\n",
       "\n",
       "    .dataframe thead th {\n",
       "        text-align: right;\n",
       "    }\n",
       "</style>\n",
       "<table border=\"1\" class=\"dataframe\">\n",
       "  <thead>\n",
       "    <tr style=\"text-align: right;\">\n",
       "      <th></th>\n",
       "      <th>Bike ID</th>\n",
       "      <th>Duration</th>\n",
       "      <th>Ending Station ID</th>\n",
       "      <th>Passholder Type</th>\n",
       "      <th>Plan Duration</th>\n",
       "      <th>Start Time</th>\n",
       "      <th>Starting Station ID</th>\n",
       "      <th>Trip ID</th>\n",
       "      <th>Trip Route Category</th>\n",
       "    </tr>\n",
       "  </thead>\n",
       "  <tbody>\n",
       "    <tr>\n",
       "      <th>0</th>\n",
       "      <td>6281.0</td>\n",
       "      <td>180</td>\n",
       "      <td>3014.0</td>\n",
       "      <td>Monthly Pass</td>\n",
       "      <td>30.0</td>\n",
       "      <td>2016-07-07 04:17:00</td>\n",
       "      <td>3014.0</td>\n",
       "      <td>1912818</td>\n",
       "      <td>Round Trip</td>\n",
       "    </tr>\n",
       "    <tr>\n",
       "      <th>1</th>\n",
       "      <td>6281.0</td>\n",
       "      <td>1980</td>\n",
       "      <td>3014.0</td>\n",
       "      <td>Monthly Pass</td>\n",
       "      <td>30.0</td>\n",
       "      <td>2016-07-07 06:00:00</td>\n",
       "      <td>3014.0</td>\n",
       "      <td>1919661</td>\n",
       "      <td>Round Trip</td>\n",
       "    </tr>\n",
       "    <tr>\n",
       "      <th>2</th>\n",
       "      <td>5861.0</td>\n",
       "      <td>300</td>\n",
       "      <td>3016.0</td>\n",
       "      <td>Flex Pass</td>\n",
       "      <td>365.0</td>\n",
       "      <td>2016-07-07 10:32:00</td>\n",
       "      <td>3016.0</td>\n",
       "      <td>1933383</td>\n",
       "      <td>Round Trip</td>\n",
       "    </tr>\n",
       "    <tr>\n",
       "      <th>3</th>\n",
       "      <td>5861.0</td>\n",
       "      <td>10860</td>\n",
       "      <td>3016.0</td>\n",
       "      <td>Flex Pass</td>\n",
       "      <td>365.0</td>\n",
       "      <td>2016-07-07 10:37:00</td>\n",
       "      <td>3016.0</td>\n",
       "      <td>1944197</td>\n",
       "      <td>Round Trip</td>\n",
       "    </tr>\n",
       "    <tr>\n",
       "      <th>4</th>\n",
       "      <td>6674.0</td>\n",
       "      <td>420</td>\n",
       "      <td>3032.0</td>\n",
       "      <td>Walk-up</td>\n",
       "      <td>0.0</td>\n",
       "      <td>2016-07-07 12:51:00</td>\n",
       "      <td>3032.0</td>\n",
       "      <td>1940317</td>\n",
       "      <td>Round Trip</td>\n",
       "    </tr>\n",
       "  </tbody>\n",
       "</table>\n",
       "</div>"
      ],
      "text/plain": [
       "   Bike ID  Duration  Ending Station ID Passholder Type Plan Duration  \\\n",
       "0   6281.0       180             3014.0    Monthly Pass          30.0   \n",
       "1   6281.0      1980             3014.0    Monthly Pass          30.0   \n",
       "2   5861.0       300             3016.0       Flex Pass         365.0   \n",
       "3   5861.0     10860             3016.0       Flex Pass         365.0   \n",
       "4   6674.0       420             3032.0         Walk-up           0.0   \n",
       "\n",
       "           Start Time  Starting Station ID  Trip ID Trip Route Category  \n",
       "0 2016-07-07 04:17:00               3014.0  1912818          Round Trip  \n",
       "1 2016-07-07 06:00:00               3014.0  1919661          Round Trip  \n",
       "2 2016-07-07 10:32:00               3016.0  1933383          Round Trip  \n",
       "3 2016-07-07 10:37:00               3016.0  1944197          Round Trip  \n",
       "4 2016-07-07 12:51:00               3032.0  1940317          Round Trip  "
      ]
     },
     "execution_count": 34,
     "metadata": {},
     "output_type": "execute_result"
    }
   ],
   "source": [
    "bikes_non_redundant.head()"
   ]
  },
  {
   "cell_type": "code",
   "execution_count": 35,
   "metadata": {},
   "outputs": [
    {
     "name": "stdout",
     "output_type": "stream",
     "text": [
      "The type of attributes and shapes : \n",
      "Bike ID                       float64\n",
      "Duration                        int64\n",
      "Ending Station ID             float64\n",
      "Passholder Type              category\n",
      "Plan Duration                category\n",
      "Start Time             datetime64[ns]\n",
      "Starting Station ID           float64\n",
      "Trip ID                         int64\n",
      "Trip Route Category          category\n",
      "dtype: object(132045, 9)\n",
      "\n",
      "The type of attributes and shapes : \n",
      "Passholder Type    category\n",
      "Plan Duration      category\n",
      "dtype: object(5, 2)\n",
      "\n",
      "The type of attributes and shapes : \n",
      "Starting Station ID           float64\n",
      "Starting Station Latitude     float64\n",
      "Starting Station Longitude    float64\n",
      "dtype: object(129, 3)\n"
     ]
    }
   ],
   "source": [
    "'''\n",
    "To answer the questions of inconsistencies, the more columns we have the more inconsistencies we can get because\n",
    "we have more probabilty of loosing data entires. \n",
    "So the cleaned data is more consistent than the intial data.\n",
    "'''\n",
    "print('The type of attributes and shapes : \\n' + str(bikes_non_redundant.dtypes) + str (bikes_non_redundant.shape)+'\\n')\n",
    "print('The type of attributes and shapes : \\n' + str(passholder_planDuration.dtypes) + str (passholder_planDuration.shape) +'\\n')\n",
    "print('The type of attributes and shapes : \\n' + str(station_ID_long_lattitude.dtypes) + str (station_ID_long_lattitude.shape))"
   ]
  },
  {
   "cell_type": "markdown",
   "metadata": {},
   "source": [
    "### B3. Querying phase\n",
    "Answer the following queries using the functionality of `Pandas`.\n",
    "\n",
    "1. Plot the *distribution* of the number of outgoing trips from each station in a histogram with 20 bins (Hint: each bin describes a range of counts, not stations).\n",
    "* Plot histograms for the *duration* and *trip starting hour in the day* attributes. For both the *duration*  and the *trip starting hour* use *discrete 1-hour intervals*. What do you observe in each plot? What are some popular values in the *duration* plot? Explain the local maxima and the trends you observe on the *trip starting hour* plot based on human behavior.\n",
    "* For each *trip route category*, calculate the proportion of trips by *passholder type* and present your results in *a stacked bar chart with normalized height*.\n",
    "* Considering only trips that begin in the morning hours (before noon), plot in *a single bar chart* the proportion of trips by *passholder type* and *trip route category*. Explain any outliers you observe.\n",
    "* Separate the hours of the day into two intervals that have (approximately) the same number of bikes leaving the stations. For each of the two intervals calculate the proportion of trips by *passholder type* and *trip route category*. Present your results in a `DataFrame` which has a unique, non-composite index. Does the proportion of trips depend on whether it is the first or second hour interval? Would the company have any significant benefit by creating a more complex paying scheme where monthly pass users would pay less in the first interval and (equally) more on the second one? Assume that the number of trips per interval will not change if the scheme changes."
   ]
  },
  {
   "cell_type": "code",
   "execution_count": 36,
   "metadata": {},
   "outputs": [
    {
     "data": {
      "text/plain": [
       "array([[<matplotlib.axes._subplots.AxesSubplot object at 0x7f65349f7f60>]],\n",
       "      dtype=object)"
      ]
     },
     "execution_count": 36,
     "metadata": {},
     "output_type": "execute_result"
    },
    {
     "data": {
      "image/png": "[encoded data removed]",
      "text/plain": [
       "<Figure size 1008x720 with 1 Axes>"
      ]
     },
     "metadata": {
      "needs_background": "light"
     },
     "output_type": "display_data"
    }
   ],
   "source": [
    "#Question 1:\n",
    "'''\n",
    "We took the Stating Station ID and counted the occurences after that we transformed them into dataframe\n",
    "and created the plot\n",
    "'''\n",
    "bikes['Starting Station ID'].value_counts().to_frame('number of outgoing trips from each station') \\\n",
    "                                                                 .hist(bins=20,figsize=(14,10),edgecolor=\"black\")"
   ]
  },
  {
   "cell_type": "code",
   "execution_count": 37,
   "metadata": {},
   "outputs": [],
   "source": [
    "#Question 2\n",
    "'''\n",
    "As requested to plot the histogram for duration we have converted the values which are given in minutes to hours.\n",
    "After that we have set the index as Count in order to have them on th y-axis and renamed index to duration \n",
    "so that our plot will make more sens.\n",
    "'''\n",
    "duration_hour=bikes['Duration'].value_counts().to_frame('Count').reset_index()\n",
    "#From minutes to hours\n",
    "duration_hour['index']=duration_hour['index'].apply(lambda x: x/60)"
   ]
  },
  {
   "cell_type": "code",
   "execution_count": 38,
   "metadata": {},
   "outputs": [
    {
     "data": {
      "text/plain": [
       "<matplotlib.axes._subplots.AxesSubplot at 0x7f652b8ff780>"
      ]
     },
     "execution_count": 38,
     "metadata": {},
     "output_type": "execute_result"
    },
    {
     "data": {
      "image/png": "[encoded data removed]",
      "text/plain": [
       "<Figure size 1008x720 with 1 Axes>"
      ]
     },
     "metadata": {
      "needs_background": "light"
     },
     "output_type": "display_data"
    }
   ],
   "source": [
    "duration_hour.set_index('Count').rename(columns = {'index':'duration'}).plot(kind='hist',\n",
    "                                                figsize=(14,10),edgecolor=\"black\")"
   ]
  },
  {
   "cell_type": "code",
   "execution_count": 39,
   "metadata": {},
   "outputs": [
    {
     "data": {
      "text/plain": [
       "array([[<matplotlib.axes._subplots.AxesSubplot object at 0x7f652a9e1550>]],\n",
       "      dtype=object)"
      ]
     },
     "execution_count": 39,
     "metadata": {},
     "output_type": "execute_result"
    },
    {
     "data": {
      "image/png": "[encoded data removed]",
      "text/plain": [
       "<Figure size 1008x720 with 1 Axes>"
      ]
     },
     "metadata": {
      "needs_background": "light"
     },
     "output_type": "display_data"
    }
   ],
   "source": [
    "#Trip starting hour\n",
    "'''\n",
    "For the starting hour is a little bit tricky we have summed the hours and minutes and seconds with hour unit. \n",
    "After that in the plot we choosed 24 bins so that will have the discrite 1-hour interval.\n",
    "'''\n",
    "starting_hour=bikes[\"Start Time\"].value_counts().to_frame('Count').reset_index()\n",
    "starting_hour['index']=starting_hour[\"index\"].apply(lambda x: x.hour+x.minute/60+x.second/3600)\n",
    "starting_hour.set_index('Count').rename(columns = {'index':'Starting hour'})\\\n",
    "                                            .hist(bins=24,figsize=(14,10),edgecolor=\"black\")"
   ]
  },
  {
   "cell_type": "markdown",
   "metadata": {},
   "source": [
    "# Interpretation of the above histograms:\n",
    "For the first plot \"Duration\": The local maxima is from 0 to 200, people prefere short tirps or rides. We can see\n",
    "that the plot is decreasing with the growth of the duration. \n",
    "\n",
    "For the second one \"Starting hour\": We can observe that the maximum is at 17h, we can explain this also \n",
    "by people are done with their work journey and it's time to enjoy a bike ride :) \n",
    "Also at 12 during the break. We can also see that in early hours of the day there is small activity of bikes.\n"
   ]
  },
  {
   "cell_type": "code",
   "execution_count": 40,
   "metadata": {},
   "outputs": [
    {
     "data": {
      "text/plain": [
       "<matplotlib.axes._subplots.AxesSubplot at 0x7f6529ffb6a0>"
      ]
     },
     "execution_count": 40,
     "metadata": {},
     "output_type": "execute_result"
    },
    {
     "data": {
      "image/png": "[encoded data removed]",
      "text/plain": [
       "<Figure size 1008x720 with 1 Axes>"
      ]
     },
     "metadata": {
      "needs_background": "light"
     },
     "output_type": "display_data"
    }
   ],
   "source": [
    "##3.For each trip route category, calculate the proportion of trips by passholder type \n",
    "##and present your results in a stacked bar chart with normalized height.\n",
    "'''\n",
    "We group by the route category and the passholder type, we keep only the bike ID columns to store the count.\n",
    "After that we unstack the dataFrame and normalize it over 100%.\n",
    "'''\n",
    "bikes_cat=bikes.groupby(['Trip Route Category','Passholder Type'])['Bike ID'].count().unstack('Passholder Type')\\\n",
    "    .apply(lambda x: x / x.sum() * 100, axis=1)\n",
    "bikes_cat.plot(kind='bar',stacked=True,figsize=(14,10))"
   ]
  },
  {
   "cell_type": "code",
   "execution_count": 41,
   "metadata": {},
   "outputs": [
    {
     "data": {
      "text/plain": [
       "<matplotlib.axes._subplots.AxesSubplot at 0x7f652a002588>"
      ]
     },
     "execution_count": 41,
     "metadata": {},
     "output_type": "execute_result"
    },
    {
     "data": {
      "image/png": "[encoded data removed]",
      "text/plain": [
       "<Figure size 1008x720 with 1 Axes>"
      ]
     },
     "metadata": {
      "needs_background": "light"
     },
     "output_type": "display_data"
    }
   ],
   "source": [
    "## Question 4:\n",
    "'''\n",
    "We keep only morning hours and we group by the Trip route category and the passholder type.\n",
    "After doing the count we show the plot.\n",
    "'''\n",
    "starting_hour=pd.DataFrame(bikes, columns=['Start Time','Trip Route Category','Passholder Type'])\n",
    "starting_hour['Start Time']=starting_hour[\"Start Time\"].apply(lambda x: x.hour)\n",
    "starting_hour=starting_hour[starting_hour[\"Start Time\"]<12]\n",
    "starting_hour.groupby(['Trip Route Category','Passholder Type']).count().\\\n",
    "        rename(columns={'Start Time':'Count'}).plot(kind='bar',figsize=(14,10),edgecolor=\"black\")"
   ]
  },
  {
   "cell_type": "markdown",
   "metadata": {},
   "source": [
    "\n",
    "staff annual category does not contain informations about the duration plan beaceause it was deleted\n",
    "from the data (The mentionned this on the website).\n",
    "For the monthly Pass, people prefer one Way trip route more than more than round Trip. We can also say \n",
    "that people with monthly pass do more one way trips.\n"
   ]
  },
  {
   "cell_type": "code",
   "execution_count": 42,
   "metadata": {},
   "outputs": [
    {
     "data": {
      "text/html": [
       "<div>\n",
       "<style scoped>\n",
       "    .dataframe tbody tr th:only-of-type {\n",
       "        vertical-align: middle;\n",
       "    }\n",
       "\n",
       "    .dataframe tbody tr th {\n",
       "        vertical-align: top;\n",
       "    }\n",
       "\n",
       "    .dataframe thead th {\n",
       "        text-align: right;\n",
       "    }\n",
       "</style>\n",
       "<table border=\"1\" class=\"dataframe\">\n",
       "  <thead>\n",
       "    <tr style=\"text-align: right;\">\n",
       "      <th></th>\n",
       "      <th>Starting Station ID</th>\n",
       "      <th>Start Time</th>\n",
       "      <th>Passholder Type</th>\n",
       "      <th>Trip Route Category</th>\n",
       "      <th>Trip ID</th>\n",
       "    </tr>\n",
       "  </thead>\n",
       "  <tbody>\n",
       "    <tr>\n",
       "      <th>0</th>\n",
       "      <td>3014.0</td>\n",
       "      <td>4</td>\n",
       "      <td>Monthly Pass</td>\n",
       "      <td>Round Trip</td>\n",
       "      <td>1912818</td>\n",
       "    </tr>\n",
       "    <tr>\n",
       "      <th>1</th>\n",
       "      <td>3014.0</td>\n",
       "      <td>6</td>\n",
       "      <td>Monthly Pass</td>\n",
       "      <td>Round Trip</td>\n",
       "      <td>1919661</td>\n",
       "    </tr>\n",
       "    <tr>\n",
       "      <th>2</th>\n",
       "      <td>3016.0</td>\n",
       "      <td>10</td>\n",
       "      <td>Flex Pass</td>\n",
       "      <td>Round Trip</td>\n",
       "      <td>1933383</td>\n",
       "    </tr>\n",
       "    <tr>\n",
       "      <th>3</th>\n",
       "      <td>3016.0</td>\n",
       "      <td>10</td>\n",
       "      <td>Flex Pass</td>\n",
       "      <td>Round Trip</td>\n",
       "      <td>1944197</td>\n",
       "    </tr>\n",
       "    <tr>\n",
       "      <th>4</th>\n",
       "      <td>3032.0</td>\n",
       "      <td>12</td>\n",
       "      <td>Walk-up</td>\n",
       "      <td>Round Trip</td>\n",
       "      <td>1940317</td>\n",
       "    </tr>\n",
       "  </tbody>\n",
       "</table>\n",
       "</div>"
      ],
      "text/plain": [
       "   Starting Station ID  Start Time Passholder Type Trip Route Category  \\\n",
       "0               3014.0           4    Monthly Pass          Round Trip   \n",
       "1               3014.0           6    Monthly Pass          Round Trip   \n",
       "2               3016.0          10       Flex Pass          Round Trip   \n",
       "3               3016.0          10       Flex Pass          Round Trip   \n",
       "4               3032.0          12         Walk-up          Round Trip   \n",
       "\n",
       "   Trip ID  \n",
       "0  1912818  \n",
       "1  1919661  \n",
       "2  1933383  \n",
       "3  1944197  \n",
       "4  1940317  "
      ]
     },
     "execution_count": 42,
     "metadata": {},
     "output_type": "execute_result"
    }
   ],
   "source": [
    "#Questions 5:\n",
    "'''\n",
    "We first selected only the columns that we are interreseted in. After that we kept only the hour form the start\n",
    "time column. \n",
    "After this we created a new dataframe to count the nomber of bikes out from the start hour. \n",
    "We have used the cumsum() methode to know the sum of all counts and to indentify where we are going to split \n",
    "the dataframe into two intervals.\n",
    "'''\n",
    "bikes_out_station=pd.DataFrame(bikes, columns=['Starting Station ID','Start Time','Passholder Type',\n",
    "                                               'Trip Route Category','Trip ID'])\n",
    "bikes_out_station['Start Time']=bikes_out_station['Start Time'].apply(lambda x: x.hour)\n",
    "bikes_out_station.head()"
   ]
  },
  {
   "cell_type": "markdown",
   "metadata": {},
   "source": [
    "__\\* Briefly explain your approach for every query here \\*__"
   ]
  },
  {
   "cell_type": "code",
   "execution_count": 43,
   "metadata": {
    "scrolled": true
   },
   "outputs": [],
   "source": [
    "out_station_count=bikes_out_station.groupby(['Start Time'])['Trip ID'].count().to_frame()"
   ]
  },
  {
   "cell_type": "code",
   "execution_count": 44,
   "metadata": {},
   "outputs": [],
   "source": [
    "#creating the Culmulative Sum column\n",
    "out_station_count['Cumulative Sum']=out_station_count.cumsum()\n",
    "#finding the mean\n",
    "mean=max(out_station_count['Cumulative Sum'])/2\n",
    "#splitting the initial dataframe\n",
    "interval_one=bikes_out_station[bikes_out_station['Start Time']<=max(out_station_count[\\\n",
    "                                                        out_station_count['Cumulative Sum']<=mean].index)]\n",
    "interval_two=bikes_out_station[bikes_out_station['Start Time']>max(out_station_count[\\\n",
    "                                                        out_station_count['Cumulative Sum']<=mean].index)]\n"
   ]
  },
  {
   "cell_type": "code",
   "execution_count": 45,
   "metadata": {},
   "outputs": [
    {
     "data": {
      "text/html": [
       "<div>\n",
       "<style scoped>\n",
       "    .dataframe tbody tr th:only-of-type {\n",
       "        vertical-align: middle;\n",
       "    }\n",
       "\n",
       "    .dataframe tbody tr th {\n",
       "        vertical-align: top;\n",
       "    }\n",
       "\n",
       "    .dataframe thead th {\n",
       "        text-align: right;\n",
       "    }\n",
       "</style>\n",
       "<table border=\"1\" class=\"dataframe\">\n",
       "  <thead>\n",
       "    <tr style=\"text-align: right;\">\n",
       "      <th></th>\n",
       "      <th></th>\n",
       "      <th>count</th>\n",
       "    </tr>\n",
       "    <tr>\n",
       "      <th>Passholder Type</th>\n",
       "      <th>Trip Route Category</th>\n",
       "      <th></th>\n",
       "    </tr>\n",
       "  </thead>\n",
       "  <tbody>\n",
       "    <tr>\n",
       "      <th rowspan=\"2\" valign=\"top\">Flex Pass</th>\n",
       "      <th>One Way</th>\n",
       "      <td>4034</td>\n",
       "    </tr>\n",
       "    <tr>\n",
       "      <th>Round Trip</th>\n",
       "      <td>223</td>\n",
       "    </tr>\n",
       "    <tr>\n",
       "      <th rowspan=\"2\" valign=\"top\">Monthly Pass</th>\n",
       "      <th>One Way</th>\n",
       "      <td>35148</td>\n",
       "    </tr>\n",
       "    <tr>\n",
       "      <th>Round Trip</th>\n",
       "      <td>1776</td>\n",
       "    </tr>\n",
       "    <tr>\n",
       "      <th rowspan=\"2\" valign=\"top\">Staff Annual</th>\n",
       "      <th>One Way</th>\n",
       "      <td>145</td>\n",
       "    </tr>\n",
       "    <tr>\n",
       "      <th>Round Trip</th>\n",
       "      <td>55</td>\n",
       "    </tr>\n",
       "    <tr>\n",
       "      <th rowspan=\"2\" valign=\"top\">Walk-up</th>\n",
       "      <th>One Way</th>\n",
       "      <td>13032</td>\n",
       "    </tr>\n",
       "    <tr>\n",
       "      <th>Round Trip</th>\n",
       "      <td>3570</td>\n",
       "    </tr>\n",
       "  </tbody>\n",
       "</table>\n",
       "</div>"
      ],
      "text/plain": [
       "                                     count\n",
       "Passholder Type Trip Route Category       \n",
       "Flex Pass       One Way               4034\n",
       "                Round Trip             223\n",
       "Monthly Pass    One Way              35148\n",
       "                Round Trip            1776\n",
       "Staff Annual    One Way                145\n",
       "                Round Trip              55\n",
       "Walk-up         One Way              13032\n",
       "                Round Trip            3570"
      ]
     },
     "execution_count": 45,
     "metadata": {},
     "output_type": "execute_result"
    }
   ],
   "source": [
    "interval_one=interval_one.groupby(['Passholder Type','Trip Route Category'])['Trip ID'].count().to_frame()\\\n",
    "            .rename(columns = {'Trip ID':'count'})\n",
    "interval_one"
   ]
  },
  {
   "cell_type": "code",
   "execution_count": 46,
   "metadata": {},
   "outputs": [
    {
     "data": {
      "text/html": [
       "<div>\n",
       "<style scoped>\n",
       "    .dataframe tbody tr th:only-of-type {\n",
       "        vertical-align: middle;\n",
       "    }\n",
       "\n",
       "    .dataframe tbody tr th {\n",
       "        vertical-align: top;\n",
       "    }\n",
       "\n",
       "    .dataframe thead th {\n",
       "        text-align: right;\n",
       "    }\n",
       "</style>\n",
       "<table border=\"1\" class=\"dataframe\">\n",
       "  <thead>\n",
       "    <tr style=\"text-align: right;\">\n",
       "      <th></th>\n",
       "      <th></th>\n",
       "      <th>count</th>\n",
       "    </tr>\n",
       "    <tr>\n",
       "      <th>Passholder Type</th>\n",
       "      <th>Trip Route Category</th>\n",
       "      <th></th>\n",
       "    </tr>\n",
       "  </thead>\n",
       "  <tbody>\n",
       "    <tr>\n",
       "      <th rowspan=\"2\" valign=\"top\">Flex Pass</th>\n",
       "      <th>One Way</th>\n",
       "      <td>5000</td>\n",
       "    </tr>\n",
       "    <tr>\n",
       "      <th>Round Trip</th>\n",
       "      <td>260</td>\n",
       "    </tr>\n",
       "    <tr>\n",
       "      <th rowspan=\"2\" valign=\"top\">Monthly Pass</th>\n",
       "      <th>One Way</th>\n",
       "      <td>42384</td>\n",
       "    </tr>\n",
       "    <tr>\n",
       "      <th>Round Trip</th>\n",
       "      <td>1996</td>\n",
       "    </tr>\n",
       "    <tr>\n",
       "      <th rowspan=\"2\" valign=\"top\">Staff Annual</th>\n",
       "      <th>One Way</th>\n",
       "      <td>154</td>\n",
       "    </tr>\n",
       "    <tr>\n",
       "      <th>Round Trip</th>\n",
       "      <td>28</td>\n",
       "    </tr>\n",
       "    <tr>\n",
       "      <th rowspan=\"2\" valign=\"top\">Walk-up</th>\n",
       "      <th>One Way</th>\n",
       "      <td>19745</td>\n",
       "    </tr>\n",
       "    <tr>\n",
       "      <th>Round Trip</th>\n",
       "      <td>4877</td>\n",
       "    </tr>\n",
       "  </tbody>\n",
       "</table>\n",
       "</div>"
      ],
      "text/plain": [
       "                                     count\n",
       "Passholder Type Trip Route Category       \n",
       "Flex Pass       One Way               5000\n",
       "                Round Trip             260\n",
       "Monthly Pass    One Way              42384\n",
       "                Round Trip            1996\n",
       "Staff Annual    One Way                154\n",
       "                Round Trip              28\n",
       "Walk-up         One Way              19745\n",
       "                Round Trip            4877"
      ]
     },
     "execution_count": 46,
     "metadata": {},
     "output_type": "execute_result"
    }
   ],
   "source": [
    "interval_two=interval_two.groupby(['Passholder Type','Trip Route Category'])['Trip ID'].count().to_frame()\\\n",
    ".rename(columns = {'Trip ID':'count'})\n",
    "interval_two"
   ]
  },
  {
   "cell_type": "code",
   "execution_count": 47,
   "metadata": {},
   "outputs": [
    {
     "data": {
      "text/plain": [
       "<matplotlib.axes._subplots.AxesSubplot at 0x7f65345a1358>"
      ]
     },
     "execution_count": 47,
     "metadata": {},
     "output_type": "execute_result"
    },
    {
     "data": {
      "image/png": "[encoded data removed]",
      "text/plain": [
       "<Figure size 1008x720 with 1 Axes>"
      ]
     },
     "metadata": {
      "needs_background": "light"
     },
     "output_type": "display_data"
    }
   ],
   "source": [
    "#in order to visualize the difference I have created a new dataframe which I called intervals which is the\n",
    "#combination of the two split so that I can have a nice plot in order to have good conclusion :)\n",
    "intervals=pd.DataFrame()\n",
    "intervals['first']=interval_one['count']\n",
    "intervals['second']=interval_two['count']\n",
    "intervals=intervals[['first','second']]\n",
    "intervals.plot(kind='bar',figsize=(14,10))"
   ]
  },
  {
   "cell_type": "markdown",
   "metadata": {},
   "source": [
    "\n",
    "From the above plot we can see that the second interval is more important than the first one.\n",
    "For the Monthly pass giving that the number of trips is unchanged, the company can make benefits by increasing \n",
    "the price for the second part and decreasing it for the first part equally. \n",
    "let's assume that the price is p and the raise is r\n",
    "the count is m and n respectectivly for first and second, let's assume that n=m+ diff, with diff is the |n - m|\n",
    "the new revenue is : m(p-r) + (m+diff)(p-r)=diff(p-r) which represent the bonus of the new schema.\n"
   ]
  },
  {
   "cell_type": "code",
   "execution_count": 48,
   "metadata": {},
   "outputs": [
    {
     "data": {
      "text/html": [
       "<div>\n",
       "<style scoped>\n",
       "    .dataframe tbody tr th:only-of-type {\n",
       "        vertical-align: middle;\n",
       "    }\n",
       "\n",
       "    .dataframe tbody tr th {\n",
       "        vertical-align: top;\n",
       "    }\n",
       "\n",
       "    .dataframe thead th {\n",
       "        text-align: right;\n",
       "    }\n",
       "</style>\n",
       "<table border=\"1\" class=\"dataframe\">\n",
       "  <thead>\n",
       "    <tr style=\"text-align: right;\">\n",
       "      <th></th>\n",
       "      <th>first</th>\n",
       "      <th>second</th>\n",
       "    </tr>\n",
       "    <tr>\n",
       "      <th>(Passholder Type,Trip Route Category)</th>\n",
       "      <th></th>\n",
       "      <th></th>\n",
       "    </tr>\n",
       "  </thead>\n",
       "  <tbody>\n",
       "    <tr>\n",
       "      <th>(Flex Pass, One Way)</th>\n",
       "      <td>0.069572</td>\n",
       "      <td>0.067165</td>\n",
       "    </tr>\n",
       "    <tr>\n",
       "      <th>(Flex Pass, Round Trip)</th>\n",
       "      <td>0.003846</td>\n",
       "      <td>0.003493</td>\n",
       "    </tr>\n",
       "    <tr>\n",
       "      <th>(Monthly Pass, One Way)</th>\n",
       "      <td>0.606178</td>\n",
       "      <td>0.569341</td>\n",
       "    </tr>\n",
       "    <tr>\n",
       "      <th>(Monthly Pass, Round Trip)</th>\n",
       "      <td>0.030630</td>\n",
       "      <td>0.026812</td>\n",
       "    </tr>\n",
       "    <tr>\n",
       "      <th>(Staff Annual, One Way)</th>\n",
       "      <td>0.002501</td>\n",
       "      <td>0.002069</td>\n",
       "    </tr>\n",
       "    <tr>\n",
       "      <th>(Staff Annual, Round Trip)</th>\n",
       "      <td>0.000949</td>\n",
       "      <td>0.000376</td>\n",
       "    </tr>\n",
       "    <tr>\n",
       "      <th>(Walk-up, One Way)</th>\n",
       "      <td>0.224756</td>\n",
       "      <td>0.265233</td>\n",
       "    </tr>\n",
       "    <tr>\n",
       "      <th>(Walk-up, Round Trip)</th>\n",
       "      <td>0.061570</td>\n",
       "      <td>0.065512</td>\n",
       "    </tr>\n",
       "  </tbody>\n",
       "</table>\n",
       "</div>"
      ],
      "text/plain": [
       "                                          first    second\n",
       "(Passholder Type,Trip Route Category)                    \n",
       "(Flex Pass, One Way)                   0.069572  0.067165\n",
       "(Flex Pass, Round Trip)                0.003846  0.003493\n",
       "(Monthly Pass, One Way)                0.606178  0.569341\n",
       "(Monthly Pass, Round Trip)             0.030630  0.026812\n",
       "(Staff Annual, One Way)                0.002501  0.002069\n",
       "(Staff Annual, Round Trip)             0.000949  0.000376\n",
       "(Walk-up, One Way)                     0.224756  0.265233\n",
       "(Walk-up, Round Trip)                  0.061570  0.065512"
      ]
     },
     "execution_count": 48,
     "metadata": {},
     "output_type": "execute_result"
    }
   ],
   "source": [
    "#final Dataframe with unique non-composed index\n",
    "interval_one=interval_one.apply(lambda x: x / x.sum() , axis=0)\n",
    "interval_two=interval_two.apply(lambda x: x / x.sum() , axis=0)\n",
    "intervals=pd.DataFrame()\n",
    "intervals['first']=interval_one['count']\n",
    "intervals['second']=interval_two['count']\n",
    "intervals=intervals[['first','second']]\n",
    "\n",
    "intervals.reset_index(inplace=True)\n",
    "intervals['(Passholder Type,Trip Route Category)'] = list(zip(intervals['Passholder Type'],\n",
    "                                                              intervals['Trip Route Category']))\n",
    "\n",
    "intervals=pd.DataFrame(intervals,columns=['(Passholder Type,Trip Route Category)','first','second'])\n",
    "intervals.set_index('(Passholder Type,Trip Route Category)')"
   ]
  }
 ],
 "metadata": {
  "kernelspec": {
   "display_name": "Python 3",
   "language": "python",
   "name": "python3"
  },
  "language_info": {
   "codemirror_mode": {
    "name": "ipython",
    "version": 3
   },
   "file_extension": ".py",
   "mimetype": "text/x-python",
   "name": "python",
   "nbconvert_exporter": "python",
   "pygments_lexer": "ipython3",
   "version": "3.6.6"
  }
 },
 "nbformat": 4,
 "nbformat_minor": 2
}
